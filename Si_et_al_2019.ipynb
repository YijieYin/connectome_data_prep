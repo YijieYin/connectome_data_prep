{
 "cells": [
  {
   "cell_type": "code",
   "execution_count": null,
   "id": "4b2d1b57-e24b-46ad-9ed0-7ae342c68942",
   "metadata": {},
   "outputs": [],
   "source": [
    "import pandas as pd\n",
    "import seaborn as sns\n",
    "import matplotlib.pyplot as plt\n",
    "# !pip install umap-learn\n",
    "import umap"
   ]
  },
  {
   "cell_type": "markdown",
   "id": "1ab4d01c-f0cb-4488-887f-393fd3cfb04f",
   "metadata": {},
   "source": [
    "### responses"
   ]
  },
  {
   "cell_type": "code",
   "execution_count": null,
   "id": "1add01d9-0eb4-4d87-b88b-b436251cdf90",
   "metadata": {},
   "outputs": [],
   "source": [
    "res = pd.read_csv('https://raw.githubusercontent.com/samuellab/Larval-ORN/master/Figure2/data/Data%20S1.csv')\n",
    "res"
   ]
  },
  {
   "cell_type": "code",
   "execution_count": null,
   "id": "7374aec8-6c86-4326-8a49-9fa7e39b6c92",
   "metadata": {},
   "outputs": [],
   "source": [
    "# take mean for each Odour and Concentration\n",
    "res_ave = res.groupby(['Odor','Concentration']).mean().reset_index()"
   ]
  },
  {
   "cell_type": "code",
   "execution_count": null,
   "id": "953eac58-e5ce-4ae8-b176-b85f54fab229",
   "metadata": {},
   "outputs": [],
   "source": [
    "res_ave.Concentration.value_counts()"
   ]
  },
  {
   "cell_type": "code",
   "execution_count": null,
   "id": "f9423a38-615e-430c-a339-3e6f824bafba",
   "metadata": {},
   "outputs": [],
   "source": [
    "res_ave.Odor.value_counts()"
   ]
  },
  {
   "cell_type": "markdown",
   "id": "70c9384a-2dd2-4ca4-9fb9-e328a55002f7",
   "metadata": {},
   "source": [
    "### odour origin info "
   ]
  },
  {
   "cell_type": "code",
   "execution_count": null,
   "id": "e5b01a62-3a1e-42fc-bba3-e64b0b5e81f1",
   "metadata": {},
   "outputs": [],
   "source": [
    "# this is in Supplement 3 of the paper \n",
    "source = pd.read_csv('/Users/yijieyin/Downloads/Si2019_odour_sources.csv')\n",
    "source.head()"
   ]
  },
  {
   "cell_type": "code",
   "execution_count": null,
   "id": "260c37d7-6dce-48a8-a133-736d0ad72ecc",
   "metadata": {},
   "outputs": [],
   "source": [
    "res.Odor.isin(source.odorant).value_counts()"
   ]
  },
  {
   "cell_type": "code",
   "execution_count": null,
   "id": "922e2864-462e-460b-9377-1b135ca9a7e4",
   "metadata": {},
   "outputs": [],
   "source": [
    "# if I recall correctly, this one didn't elicit any response \n",
    "source.odorant[~source.odorant.isin(res.Odor)]"
   ]
  },
  {
   "cell_type": "markdown",
   "id": "acf159ce-704e-4186-9b11-318e2981d235",
   "metadata": {},
   "source": [
    "### odour meta info"
   ]
  },
  {
   "cell_type": "code",
   "execution_count": null,
   "id": "ea1c0198-452f-4d95-b4bb-5ee379ab4917",
   "metadata": {},
   "outputs": [],
   "source": [
    "odour_des = pd.read_csv('/Users/yijieyin/Downloads/Odor_Structure_Descriptors_EDragon.csv')\n",
    "odour_des.MOL_NAME = odour_des.MOL_NAME.str.lower()\n",
    "odour_des.head()"
   ]
  },
  {
   "cell_type": "code",
   "execution_count": null,
   "id": "32097022-049d-4c4c-94af-543bfa74eef3",
   "metadata": {},
   "outputs": [],
   "source": [
    "odour_des[~odour_des.MOL_NAME.isin(res.Odor)]"
   ]
  },
  {
   "cell_type": "code",
   "execution_count": null,
   "id": "b67c8545-96c8-4ea7-8926-5292d3dcee2f",
   "metadata": {},
   "outputs": [],
   "source": [
    "odour_des.loc[odour_des.MOL_NAME == '2-phenylethanol','MOL_NAME'] = '2-phenyl ethanol'\n",
    "odour_des.loc[odour_des.MOL_NAME == '(1r)-(-)-myrtenal', 'MOL_NAME'] = 'myrtenal'"
   ]
  },
  {
   "cell_type": "code",
   "execution_count": null,
   "id": "31cfbd08-ab87-4bb0-b960-bb8e94f44899",
   "metadata": {},
   "outputs": [],
   "source": [
    "# there are ORNs not recorded for some conditions \n",
    "nas = res.groupby(['Odor','Concentration']).apply(lambda group: group.isna().sum())\n",
    "nas.sum(axis=1)[nas.sum(axis=1)>0]"
   ]
  },
  {
   "cell_type": "code",
   "execution_count": null,
   "id": "be97e313-56a6-4f56-9350-536dad722c23",
   "metadata": {},
   "outputs": [],
   "source": [
    "# remove rows with any NaN in them \n",
    "res_nona = res.dropna()\n",
    "res_data = res_nona.drop(['Odor','Exp_ID','Concentration'], axis = 1)"
   ]
  },
  {
   "cell_type": "code",
   "execution_count": null,
   "id": "bd821b94-adf6-44d8-8b3d-d8e8a3c68c64",
   "metadata": {},
   "outputs": [],
   "source": [
    "res_data.shape"
   ]
  },
  {
   "cell_type": "code",
   "execution_count": null,
   "id": "07324a70-b4bb-4a58-bd3b-fff4a6ef9448",
   "metadata": {},
   "outputs": [],
   "source": [
    "reducer = umap.UMAP()\n",
    "embedding = reducer.fit_transform(res_data.values)\n",
    "embedding.shape"
   ]
  },
  {
   "cell_type": "code",
   "execution_count": null,
   "id": "7d009588-c4f3-4df9-a12f-470b79654714",
   "metadata": {},
   "outputs": [],
   "source": [
    "meta = pd.DataFrame(embedding, columns = ['x','y'])\n",
    "meta['odour'] = res_nona.Odor.values\n",
    "meta['concentration'] = res_nona.Concentration.values\n",
    "meta = meta.merge(source, left_on = 'odour', right_on='odorant')\\\n",
    ".merge(odour_des, left_on = 'odour', right_on = 'MOL_NAME')\n",
    "meta.head()"
   ]
  },
  {
   "cell_type": "code",
   "execution_count": null,
   "id": "b1f63270-5824-4b11-8665-9ec787ed68e7",
   "metadata": {},
   "outputs": [],
   "source": [
    "plt.figure(figsize=(15,10))\n",
    "sns.scatterplot(data = meta, x = 'x', y = 'y', \n",
    "                hue = 'odour', size = 'concentration')"
   ]
  },
  {
   "cell_type": "code",
   "execution_count": null,
   "id": "66c16824-7fc5-4c71-a2ef-674f7d150550",
   "metadata": {},
   "outputs": [],
   "source": [
    "plt.figure(figsize=(15,10))\n",
    "sns.scatterplot(data = meta, x = 'x', y = 'y', \n",
    "                hue = 'valence', size = 'concentration')"
   ]
  },
  {
   "cell_type": "code",
   "execution_count": null,
   "id": "de84ac65-eaff-47f5-9fad-15082701f407",
   "metadata": {},
   "outputs": [],
   "source": [
    "plt.figure(figsize=(15,10))\n",
    "sns.scatterplot(data = meta, x = 'x', y = 'y', \n",
    "                hue = 'origin', size = 'concentration')"
   ]
  },
  {
   "cell_type": "code",
   "execution_count": null,
   "id": "cc977abd-e8c3-449a-9879-6c423c2e932c",
   "metadata": {},
   "outputs": [],
   "source": [
    "plt.figure(figsize=(15,10))\n",
    "sns.scatterplot(data = meta, x = 'x', y = 'y', \n",
    "                hue = 'valence', size = 'P1s')"
   ]
  },
  {
   "cell_type": "markdown",
   "id": "c79ee001-4d98-4e6d-957c-db46a3f809c9",
   "metadata": {},
   "source": [
    "## chemical feature exploration"
   ]
  },
  {
   "cell_type": "code",
   "execution_count": null,
   "id": "a1ca4bfb-5ec3-40aa-b7ee-77bb2bb7970d",
   "metadata": {},
   "outputs": [],
   "source": [
    "corres = meta.drop(list(source.columns) + ['odour','concentration','No.', 'MOL_NAME', \"PUBCHEM_ID\",'MOL_ID'], axis = 1).corr()"
   ]
  },
  {
   "cell_type": "code",
   "execution_count": null,
   "id": "44fb2a2b-f5ee-47ed-bd63-188e00a5ed4e",
   "metadata": {},
   "outputs": [],
   "source": [
    "corres.shape"
   ]
  },
  {
   "cell_type": "code",
   "execution_count": null,
   "id": "3cde657e-de6d-4d52-9c77-914a03bd1930",
   "metadata": {},
   "outputs": [],
   "source": [
    "# top correlations with the x axis \n",
    "corres[['x','y']].sort_values('x', ascending=False).iloc[1:10,:]"
   ]
  },
  {
   "cell_type": "code",
   "execution_count": null,
   "id": "e7fc05fe-df94-46ff-8885-ab90ad1c0f13",
   "metadata": {},
   "outputs": [],
   "source": [
    "# top reverse correlations with the x axis \n",
    "corres[['x','y']].sort_values('x').iloc[1:10,:]"
   ]
  },
  {
   "cell_type": "code",
   "execution_count": null,
   "id": "2d0557d3-e0d0-429a-90e4-2e24b5c41901",
   "metadata": {},
   "outputs": [],
   "source": [
    "corres.x.plot.hist()"
   ]
  },
  {
   "cell_type": "code",
   "execution_count": null,
   "id": "bd53b64f-7fd4-4cf3-a050-a96dae786e84",
   "metadata": {},
   "outputs": [],
   "source": [
    "# top correlations with the y axis \n",
    "corres[['x','y']].sort_values('y', ascending=False).iloc[1:10,:]"
   ]
  },
  {
   "cell_type": "code",
   "execution_count": null,
   "id": "d80b5eff-2926-4605-9669-6c55b80297fd",
   "metadata": {},
   "outputs": [],
   "source": [
    "plt.figure(figsize=(15,10))\n",
    "sns.scatterplot(data = meta, x = 'x', y = 'y', \n",
    "                hue = 'valence', size = 'BEHm1')"
   ]
  },
  {
   "cell_type": "code",
   "execution_count": null,
   "id": "ed7cadd3-53df-432a-a867-ad9dbaa44e4b",
   "metadata": {},
   "outputs": [],
   "source": []
  }
 ],
 "metadata": {
  "kernelspec": {
   "display_name": "Python 3 (ipykernel)",
   "language": "python",
   "name": "python3"
  },
  "language_info": {
   "codemirror_mode": {
    "name": "ipython",
    "version": 3
   },
   "file_extension": ".py",
   "mimetype": "text/x-python",
   "name": "python",
   "nbconvert_exporter": "python",
   "pygments_lexer": "ipython3",
   "version": "3.8.11"
  }
 },
 "nbformat": 4,
 "nbformat_minor": 5
}
