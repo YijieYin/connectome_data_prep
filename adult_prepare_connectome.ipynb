{
 "cells": [
  {
   "cell_type": "code",
   "execution_count": null,
   "id": "a86f76d0-ea12-443c-b2b7-dc5f77d58ef8",
   "metadata": {
    "id": "a86f76d0-ea12-443c-b2b7-dc5f77d58ef8"
   },
   "outputs": [],
   "source": [
    "import pandas as pd\n",
    "import numpy as np\n",
    "import sys\n",
    "import matplotlib.pyplot as plt\n",
    "import time\n",
    "from scipy.sparse import csc_matrix, coo_matrix, diags\n",
    "import scipy as sp\n",
    "from tqdm import tqdm"
   ]
  },
  {
   "cell_type": "code",
   "execution_count": null,
   "id": "wmez1ZUXRcKV",
   "metadata": {
    "id": "wmez1ZUXRcKV"
   },
   "outputs": [],
   "source": [
    "import seaserpent as ss"
   ]
  },
  {
   "cell_type": "markdown",
   "id": "a1fbd858-712b-4ba0-87c8-400ad6500224",
   "metadata": {
    "id": "a1fbd858-712b-4ba0-87c8-400ad6500224"
   },
   "source": [
    "# reading data"
   ]
  },
  {
   "cell_type": "code",
   "execution_count": null,
   "id": "d9e08878-d05a-4ebd-b89b-81a77d59ea5e",
   "metadata": {
    "id": "d9e08878-d05a-4ebd-b89b-81a77d59ea5e"
   },
   "outputs": [],
   "source": [
    "info = pd.read_csv('https://raw.githubusercontent.com/flyconnectome/flywire_annotations/main/supplemental_files/Supplemental_file1_neuron_annotations.tsv',\n",
    "                   delimiter = '\\t')\n",
    "info.columns"
   ]
  },
  {
   "cell_type": "code",
   "execution_count": null,
   "id": "664471d0-8240-4658-8569-a8b2d0179d92",
   "metadata": {
    "id": "664471d0-8240-4658-8569-a8b2d0179d92"
   },
   "outputs": [],
   "source": [
    "info.super_class.value_counts(dropna = False)"
   ]
  },
  {
   "cell_type": "code",
   "execution_count": null,
   "id": "02cc34eb-32a3-4549-a707-e87f1b2b38a3",
   "metadata": {
    "id": "02cc34eb-32a3-4549-a707-e87f1b2b38a3"
   },
   "outputs": [],
   "source": [
    "# to make the matrix smaller, let's take visual projection neurons as visual input, and remove the optic lobe neurons\n",
    "cb = info[~info.super_class.isin(['optic'])]\n",
    "# filter out the visual sensory neurons, except for the ocellar ones\n",
    "cb = cb[(cb.cell_class != 'visual') | (cb.cell_type == 'ocellar retinula cell')]\n",
    "cb"
   ]
  },
  {
   "cell_type": "code",
   "execution_count": null,
   "id": "7a545e93-c237-4cce-b616-7ebfff098bc8",
   "metadata": {
    "id": "7a545e93-c237-4cce-b616-7ebfff098bc8"
   },
   "outputs": [],
   "source": [
    "# which sensory modalities are there?\n",
    "cb[cb.super_class == 'sensory']['cell_class'].value_counts()"
   ]
  },
  {
   "cell_type": "code",
   "execution_count": null,
   "id": "d53ce7a5-c369-4d91-9a77-823530a80245",
   "metadata": {
    "id": "14961280-fceb-4fa6-9123-45f87890e9ad"
   },
   "outputs": [],
   "source": [
    "cb[\"combined_type\"] = cb.cell_type\n",
    "# fill the leftover nas with hemibrain_type\n",
    "cb.combined_type.fillna(cb.hemibrain_type, inplace= True)\n",
    "cb.combined_type.value_counts()"
   ]
  },
  {
   "cell_type": "markdown",
   "id": "9e673022-c998-41fa-9e02-7e97a4cb5370",
   "metadata": {},
   "source": [
    "## no type"
   ]
  },
  {
   "cell_type": "code",
   "execution_count": null,
   "id": "c7e1b34c-2927-46bc-9ed0-c018571a4903",
   "metadata": {
    "id": "c7e1b34c-2927-46bc-9ed0-c018571a4903"
   },
   "outputs": [],
   "source": [
    "# how many neurons have no type information?\n",
    "cb[['cell_type','hemibrain_type']].isna().value_counts()"
   ]
  },
  {
   "cell_type": "code",
   "execution_count": null,
   "id": "5e0922b0-3293-47f1-84bb-f4f2b1492646",
   "metadata": {
    "id": "5e0922b0-3293-47f1-84bb-f4f2b1492646"
   },
   "outputs": [],
   "source": [
    "cbnotype = cb[cb.hemibrain_type.isna() & cb.cell_type.isna()]\n",
    "cbnotype.status.value_counts(dropna=False)"
   ]
  },
  {
   "cell_type": "code",
   "execution_count": null,
   "id": "e4c5f7da-2cf1-4971-99e5-bf3d1c143fb9",
   "metadata": {
    "id": "e4c5f7da-2cf1-4971-99e5-bf3d1c143fb9"
   },
   "outputs": [],
   "source": [
    "# which hemilineages do the neurons without a type belong to?\n",
    "cbnotype[cbnotype.status.isna()].ito_lee_hemilineage.value_counts(dropna = False)"
   ]
  },
  {
   "cell_type": "code",
   "execution_count": null,
   "id": "eaed48c7-f7c3-4034-afbe-094aba95bc7a",
   "metadata": {
    "id": "eaed48c7-f7c3-4034-afbe-094aba95bc7a"
   },
   "outputs": [],
   "source": [
    "cbnotype[cbnotype.status.isna()].super_class.value_counts()"
   ]
  },
  {
   "cell_type": "code",
   "execution_count": null,
   "id": "deb6b9a4-58de-49b8-8959-0e4709f6bbb9",
   "metadata": {
    "id": "deb6b9a4-58de-49b8-8959-0e4709f6bbb9"
   },
   "outputs": [],
   "source": [
    "cbnotype.root_id[cbnotype.ito_lee_hemilineage.isna() & (cbnotype.super_class == 'central')].values"
   ]
  },
  {
   "cell_type": "markdown",
   "id": "79680ad2-5174-46c6-bf41-28345516065b",
   "metadata": {},
   "source": [
    "# Add CB types from live info?"
   ]
  },
  {
   "cell_type": "code",
   "execution_count": null,
   "id": "57375a1a-9572-4ef6-be92-93eefe04f438",
   "metadata": {
    "id": "57375a1a-9572-4ef6-be92-93eefe04f438"
   },
   "outputs": [],
   "source": [
    "# read from info\n",
    "infolive = ss.Table('info', base='main')\n",
    "infodf = infolive.to_frame()\n",
    "# remove not a neurons and duplicate entries\n",
    "infodf = infodf[~infodf.super_class.isin(['not_a_neuron']) & ~infodf.status.isin(['bad_nucleus','not_a_neuron'])]"
   ]
  },
  {
   "cell_type": "code",
   "execution_count": null,
   "id": "69a41670-c812-4203-89bd-6e22fb2ecff1",
   "metadata": {
    "id": "69a41670-c812-4203-89bd-6e22fb2ecff1"
   },
   "outputs": [],
   "source": [
    "infodfnotype = infodf[infodf.root_783.isin(cbnotype.root_id.astype(str))]\n",
    "infodfnotype.cb_type.value_counts()"
   ]
  },
  {
   "cell_type": "code",
   "execution_count": null,
   "id": "1dd5f831-2899-4f7b-a668-fd4ace3a80a8",
   "metadata": {
    "id": "1dd5f831-2899-4f7b-a668-fd4ace3a80a8"
   },
   "outputs": [],
   "source": [
    "# have a look at a few\n",
    "infodfnotype[infodfnotype.cb_type == 'AN_6_22,29,36,37'].root_783.astype(np.int64).values"
   ]
  },
  {
   "cell_type": "code",
   "execution_count": null,
   "id": "ec1d182b-5943-480f-bb56-61b3a11026c4",
   "metadata": {
    "id": "ec1d182b-5943-480f-bb56-61b3a11026c4"
   },
   "outputs": [],
   "source": [
    "# exclude ones with 'None' in the type name - they don't seem good\n",
    "# first exclude the ones without a cb_type\n",
    "infodfnotype = infodfnotype[~infodfnotype.cb_type.isna()]\n",
    "infodfnotype = infodfnotype[['None' not in cbtype for cbtype in infodfnotype.cb_type]]\n",
    "infodfnotype.cb_type.value_counts()"
   ]
  },
  {
   "cell_type": "code",
   "execution_count": null,
   "id": "8067422f-6fc7-417f-bc15-37274cfcae3f",
   "metadata": {
    "id": "8067422f-6fc7-417f-bc15-37274cfcae3f"
   },
   "outputs": [],
   "source": [
    "infodfnotype.shape"
   ]
  },
  {
   "cell_type": "markdown",
   "id": "9fefa376-5a20-4145-b20e-b50746822519",
   "metadata": {
    "id": "9fefa376-5a20-4145-b20e-b50746822519"
   },
   "source": [
    "So we can add additional labels to ~1700 neurons."
   ]
  },
  {
   "cell_type": "code",
   "execution_count": null,
   "id": "994b3a7e-28cb-43d8-a60b-8439f5ea517c",
   "metadata": {
    "id": "994b3a7e-28cb-43d8-a60b-8439f5ea517c"
   },
   "outputs": [],
   "source": [
    "cbtypes = dict(zip(infodfnotype.root_783.astype(np.int64), infodfnotype.cb_type))"
   ]
  },
  {
   "cell_type": "code",
   "execution_count": null,
   "id": "c6cb3c70-7811-4df8-9c15-05e0386b7cd0",
   "metadata": {},
   "outputs": [],
   "source": [
    "# fill the still leftover nas with cbtype\n",
    "cb.combined_type.fillna(cb.root_id.map(cbtypes), inplace= True)"
   ]
  },
  {
   "cell_type": "markdown",
   "id": "671a47a5-982c-44f5-897e-7a8c8b1efef3",
   "metadata": {
    "id": "671a47a5-982c-44f5-897e-7a8c8b1efef3"
   },
   "source": [
    "# Combine types into one column"
   ]
  },
  {
   "cell_type": "code",
   "execution_count": null,
   "id": "82fc74c8-e48b-4ba0-aea7-2cf94b349d31",
   "metadata": {},
   "outputs": [],
   "source": [
    "# fill the still leftover nas with root ids\n",
    "cb.combined_type.fillna(cb.root_id.astype(str), inplace= True)"
   ]
  },
  {
   "cell_type": "code",
   "execution_count": null,
   "id": "59fde38b-b292-4741-a825-c4ca249e6333",
   "metadata": {
    "id": "59fde38b-b292-4741-a825-c4ca249e6333"
   },
   "outputs": [],
   "source": [
    "typedict = dict(zip(cb.root_id, cb.combined_type))\n",
    "sidedict = dict(zip(cb.root_id, cb.side))\n",
    "type_super_class_dict = dict(zip(cb.combined_type, cb.super_class))\n",
    "type_class_dict = dict(zip(cb.combined_type, cb.cell_class)) \n",
    "type_sub_class_dict = dict(zip(cb.combined_type, cb.cell_sub_class))"
   ]
  },
  {
   "cell_type": "code",
   "execution_count": null,
   "id": "ba5af686-b87e-43fb-8e88-96b1ffd37766",
   "metadata": {},
   "outputs": [],
   "source": [
    "import platform \n",
    "\n",
    "if platform.system() == 'Windows': \n",
    "    conn = pd.read_feather('C:/Users/44745/Downloads/syn_proof_analysis_filtered_consolidated_783.feather')\n",
    "else: \n",
    "    conn = pd.read_feather('/Users/yijieyin/Downloads/syn_proof_analysis_filtered_consolidated_783.feather')"
   ]
  },
  {
   "cell_type": "code",
   "execution_count": null,
   "id": "5d382fc7-a1bd-4dbd-a624-26a49b8135b5",
   "metadata": {
    "id": "5d382fc7-a1bd-4dbd-a624-26a49b8135b5"
   },
   "outputs": [],
   "source": [
    "# filter for the connectivity between components of the central brain\n",
    "conn = conn[conn.pre_pt_root_id.isin(cb.root_id) & conn.post_pt_root_id.isin(cb.root_id)]\n",
    "\n",
    "# add meta information\n",
    "conn['pre_type'] = conn.pre_pt_root_id.map(typedict)\n",
    "conn['pre_side'] = conn.pre_pt_root_id.map(sidedict)\n",
    "conn['post_type'] = conn.post_pt_root_id.map(typedict)\n",
    "conn['post_side'] = conn.post_pt_root_id.map(sidedict)\n",
    "\n",
    "# and put type and side info into one column\n",
    "# this separates the neurons of the same type from different sides, and\n",
    "# keeps the possibility of looking at circuits where the side of the neuron makes a difference\n",
    "conn['pre_type_side'] = conn.pre_type +'_'+ conn.pre_side\n",
    "conn['post_type_side'] = conn.post_type +'_'+ conn.post_side\n",
    "conn"
   ]
  },
  {
   "cell_type": "code",
   "execution_count": null,
   "id": "5082bfb7-760b-4393-808d-4e94b379f02a",
   "metadata": {},
   "outputs": [],
   "source": [
    "root_typeside_dict = dict(zip(conn.pre_pt_root_id, conn.pre_type_side))\n",
    "root_typeside_dict.update(dict(zip(conn.post_pt_root_id, conn.post_type_side)))\n",
    "\n",
    "type_typeside_dict = dict(zip(conn.pre_type_side, conn.pre_type))\n",
    "type_typeside_dict.update(dict(zip(conn.post_type_side, conn.post_type)))\n",
    "len(type_typeside_dict)"
   ]
  },
  {
   "cell_type": "code",
   "execution_count": null,
   "id": "92948f96-3a6e-4e97-92c8-aad0264414ef",
   "metadata": {
    "id": "92948f96-3a6e-4e97-92c8-aad0264414ef"
   },
   "outputs": [],
   "source": [
    "# sum the number of synapses across neuropils and root_ids of the same type and side\n",
    "conntt = conn.groupby(['pre_type_side','post_type_side','pre_type','post_type'])['syn_count'].sum().reset_index()\n",
    "conntt"
   ]
  },
  {
   "cell_type": "code",
   "execution_count": null,
   "id": "09d973e2-8b7d-457e-8be0-4bad31acd812",
   "metadata": {
    "id": "09d973e2-8b7d-457e-8be0-4bad31acd812"
   },
   "outputs": [],
   "source": [
    "# how many neurons are there roughly?\n",
    "print('Total number of unique ids: ', len(set(conn.pre_pt_root_id)))\n",
    "print('Total number of unique types (including where root_ids are used as a type): ', len(set(cb.combined_type)))\n",
    "print('Total number of unique type_sides: ', len(set(conn.pre_type_side)))"
   ]
  },
  {
   "cell_type": "code",
   "execution_count": null,
   "id": "b338a07c-5ec2-40f5-a316-1cb6e8769c2f",
   "metadata": {
    "id": "b338a07c-5ec2-40f5-a316-1cb6e8769c2f"
   },
   "outputs": [],
   "source": [
    "# the amount of memory it would take for a dense matrix in Gb\n",
    "# number of integers * 64 bit integers / 8 bits per byte / 1e9 bytes per Gb\n",
    "(len(set(conn.pre_type_side))**2)*64/8/1e9"
   ]
  },
  {
   "cell_type": "markdown",
   "id": "8356e3cb-4d61-46ca-ae6e-6396881ff693",
   "metadata": {
    "id": "8356e3cb-4d61-46ca-ae6e-6396881ff693"
   },
   "source": [
    "- COO Matrix (Coordinate format):\n",
    "1. In COO format, a sparse matrix is represented by three arrays: row indices, column indices, and the values themselves.  \n",
    "2. This format is ideal for constructing sparse matrices when you have the coordinates of the non-zero elements (like from an edge list).  \n",
    "3. It's efficient for matrix construction but not for matrix operations (like multiplication or indexing).  \n",
    "\n",
    "- CSC Matrix (Compressed Sparse Column format):\n",
    "1. In CSC format, the matrix is represented by column pointers, row indices, and the non-zero values.  \n",
    "2. This format is efficient for arithmetic operations, column slicing, and matrix-vector products.  \n",
    "3. However, constructing a CSC matrix directly from an edge list isn't as straightforward as with a COO matrix."
   ]
  },
  {
   "cell_type": "code",
   "execution_count": null,
   "id": "5305afe7-7348-44e8-8856-ae496da74480",
   "metadata": {
    "id": "5305afe7-7348-44e8-8856-ae496da74480"
   },
   "outputs": [],
   "source": [
    "# instead of making a dense matrix based on the edgelist above, let's make a sparse one from the edgelist directly\n",
    "# first make a coo matrix\n",
    "nodes = set(conntt.pre_type_side).union(set(conntt.post_type_side))\n",
    "sorted_nodes = sorted(nodes)  # Convert the set to a sorted list\n",
    "nodes_to_idx = {node:num for num, node in enumerate(sorted_nodes)}\n",
    "\n",
    "# type to type connectivity\n",
    "conntt['pre_idx'] = conntt['pre_type_side'].map(nodes_to_idx)\n",
    "conntt['post_idx'] = conntt['post_type_side'].map(nodes_to_idx)\n",
    "\n",
    "# Create COO matrix\n",
    "row = conntt['pre_idx'].values\n",
    "col = conntt['post_idx'].values\n",
    "data = conntt['syn_count'].values\n",
    "matrix_size = len(nodes)\n",
    "coo = coo_matrix((data, (row, col)), shape=(matrix_size, matrix_size))\n",
    "\n",
    "# then turn it into csc matrix\n",
    "csc = coo.tocsc()\n",
    "\n",
    "csc_size = csc.data.nbytes  # Size of the data array\n",
    "csc_size += csc.indices.nbytes  # Size of the indices array\n",
    "csc_size += csc.indptr.nbytes  # Size of the index pointer array\n",
    "# number of MB\n",
    "csc_size/1e6"
   ]
  },
  {
   "cell_type": "code",
   "execution_count": null,
   "id": "cb689197-0647-4f84-a824-eee931c9ce78",
   "metadata": {
    "id": "cb689197-0647-4f84-a824-eee931c9ce78"
   },
   "outputs": [],
   "source": [
    "csc.shape"
   ]
  },
  {
   "cell_type": "code",
   "execution_count": null,
   "id": "68c70e25-6aad-4856-a98a-7a59e0790725",
   "metadata": {
    "id": "68c70e25-6aad-4856-a98a-7a59e0790725"
   },
   "outputs": [],
   "source": [
    "csc"
   ]
  },
  {
   "cell_type": "code",
   "execution_count": null,
   "id": "ef6f70d5-b4d6-45e3-b9c6-dad16ca06d58",
   "metadata": {
    "id": "ef6f70d5-b4d6-45e3-b9c6-dad16ca06d58"
   },
   "outputs": [],
   "source": [
    "col_sums = csc.sum(axis=0)\n",
    "# Handling division by zero in case some columns have a sum of zero\n",
    "# that is, where a neuron doesn't have incoming synapses\n",
    "# .A turns it from a sparse matrix into a dense np array\n",
    "col_sums_with_inversion = np.reciprocal(col_sums.A.squeeze().astype(float), where=col_sums.A.squeeze() != 0)\n",
    "# Multiply each column by the inverse of its sum\n",
    "inprop = csc.multiply(col_sums_with_inversion)\n",
    "# and then reduce the precision to float32 to save memory\n",
    "inprop = inprop.astype(np.float32)"
   ]
  },
  {
   "cell_type": "code",
   "execution_count": null,
   "id": "aee14948-633e-4aa5-805b-1500d6d11998",
   "metadata": {
    "id": "aee14948-633e-4aa5-805b-1500d6d11998"
   },
   "outputs": [],
   "source": [
    "sp.sparse.save_npz('data/adult_inprop.npz', inprop)"
   ]
  },
  {
   "cell_type": "code",
   "execution_count": null,
   "id": "d112405e-bf4b-4b62-a3e5-46470a24b382",
   "metadata": {},
   "outputs": [],
   "source": [
    "# save to csv, one row is one neuron \n",
    "meta = pd.DataFrame(root_typeside_dict.items(), columns = ['root_id','cell_type_side'])\n",
    "meta['idx'] = meta.cell_type_side.map(nodes_to_idx)\n",
    "meta['cell_type'] = meta.cell_type_side.map(type_typeside_dict)\n",
    "meta['super_class'] = meta.cell_type.map(type_super_class_dict)\n",
    "meta['cell_class'] = meta.cell_type.map(type_class_dict)\n",
    "meta['cell_sub_class'] = meta.cell_type.map(type_sub_class_dict)\n",
    "meta.to_csv('data/adult_type_meta.csv')"
   ]
  },
  {
   "cell_type": "code",
   "execution_count": null,
   "id": "f617e529-919e-4efb-9c9b-8dcf17a25f75",
   "metadata": {},
   "outputs": [],
   "source": [
    "# save the meta data as a csv, one row is one type_side  \n",
    "meta = pd.DataFrame(nodes_to_idx.items(), columns=['cell_type_side','idx'])\n",
    "meta['cell_type'] = meta.cell_type_side.map(type_typeside_dict)\n",
    "meta['super_class'] = meta.cell_type.map(type_super_class_dict)\n",
    "meta['cell_class'] = meta.cell_type.map(type_class_dict)\n",
    "meta['cell_sub_class'] = meta.cell_type.map(type_sub_class_dict)\n",
    "meta.to_csv('data/adult_type_meta.csv')"
   ]
  },
  {
   "cell_type": "markdown",
   "id": "706e0cfc-89fc-43d1-b886-29bb0656316a",
   "metadata": {},
   "source": [
    "# NT"
   ]
  },
  {
   "cell_type": "code",
   "execution_count": null,
   "id": "512a1ab9-ad56-464a-a49a-f3d8e77f2485",
   "metadata": {},
   "outputs": [],
   "source": [
    "cb.top_nt.value_counts(dropna = False)"
   ]
  },
  {
   "cell_type": "code",
   "execution_count": null,
   "id": "7b660d5d-6fb9-413b-84c9-004138722fe0",
   "metadata": {},
   "outputs": [],
   "source": [
    "# first check consistency of NT within each type \n",
    "cb['top_nt'] = cb['top_nt'].fillna('unknown')\n",
    "nt_count_per_type = cb.groupby('combined_type')['top_nt'].nunique()\n",
    "plt.hist(nt_count_per_type)"
   ]
  },
  {
   "cell_type": "code",
   "execution_count": null,
   "id": "14368e18-6bd9-4fea-add4-6ace658e69f6",
   "metadata": {},
   "outputs": [],
   "source": [
    "# For those with different NT for each neuron, get the majority NT for each type\n",
    "nt_conflict_types = nt_count_per_type[nt_count_per_type > 1].index\n",
    "\n",
    "# Getting counts of top_nt for each combined_type\n",
    "nt_conflict_type_counts = cb[cb.combined_type.isin(nt_conflict_types)].groupby(['combined_type', 'top_nt']).size()\n",
    "\n",
    "# Convert the series to a DataFrame and reset index\n",
    "nt_conflict_type_counts = nt_conflict_type_counts.reset_index(name='counts')\n",
    "\n",
    "# Sort by combined_type and counts in descending order\n",
    "nt_conflict_type_counts.sort_values(by=['combined_type', 'counts'], ascending=[True, False], inplace=True)\n",
    "\n",
    "# Initialize dictionary with existing type-nt matching\n",
    "type_nt = dict(zip(cb.combined_type, cb.top_nt))\n",
    "# Initialize a list to keep track of types with equal top_nt counts\n",
    "types_with_equal_top_nt_counts = []\n",
    "\n",
    "# Custom function to handle ties, random selection, and record keeping\n",
    "def select_random_nt_and_record_ties(df):\n",
    "    max_count = df['counts'].max()\n",
    "    top_nts = df[df['counts'] == max_count]\n",
    "    if len(top_nts) > 1:  # If there are ties\n",
    "        types_with_equal_top_nt_counts.append(df['combined_type'].iloc[0])  # Record the type with ties\n",
    "        return np.random.choice(top_nts['top_nt'].values)  # Random selection among ties\n",
    "    else:\n",
    "        return top_nts['top_nt'].values[0]\n",
    "\n",
    "# Loop through each type to get the top_nt, handling ties appropriately\n",
    "for atype in nt_conflict_types:\n",
    "    type_df = nt_conflict_type_counts[nt_conflict_type_counts['combined_type'] == atype]\n",
    "    top_nt = select_random_nt_and_record_ties(type_df)\n",
    "    type_nt[atype] = top_nt\n",
    "\n",
    "len(types_with_equal_top_nt_counts)"
   ]
  },
  {
   "cell_type": "code",
   "execution_count": null,
   "id": "3c120eed-3686-4194-9335-add40327ed51",
   "metadata": {},
   "outputs": [],
   "source": [
    "# the types without any known nt \n",
    "[atype for atype, nt in type_nt.items() if nt == 'unknown']"
   ]
  },
  {
   "cell_type": "code",
   "execution_count": null,
   "id": "c79bb6ed-3748-419f-9c76-7e57891e91d7",
   "metadata": {},
   "outputs": [],
   "source": [
    "# now make a sparse matrix, where excitatory connections are 1, and inhibitory are -1 \n",
    "# for now regarding everything (ACh, Glu, GABA, Dopamine, Serotonine, ??) except for Glu and GABA to be excitatory\n",
    "# first make a dictionary \n",
    "nt_value = {'acetylcholine': 1, \n",
    "           'glutamate': -1, \n",
    "           'gaba': -1, \n",
    "           'dopamine': 1, \n",
    "           'serotonin': 1, \n",
    "           'octopamine': 1, \n",
    "           'unknown': 1}\n",
    "\n",
    "type_sign = pd.DataFrame(type_nt.items(), columns = ['cell_type','nt'])\n",
    "type_sign['sign'] = type_sign.nt.map(nt_value)\n",
    "type_sign.to_csv('data/adult_nt.csv')"
   ]
  },
  {
   "cell_type": "markdown",
   "id": "acda0743-b35f-43dc-8d81-6fc437253f7b",
   "metadata": {
    "id": "acda0743-b35f-43dc-8d81-6fc437253f7b"
   },
   "source": [
    "# int64 vs. int32"
   ]
  },
  {
   "cell_type": "code",
   "execution_count": null,
   "id": "37d21aef-555b-4801-a287-ca9a890a59f9",
   "metadata": {
    "id": "37d21aef-555b-4801-a287-ca9a890a59f9"
   },
   "outputs": [],
   "source": [
    "# sensitivity analysis - does int32/16 matter?\n",
    "import numpy as np\n",
    "from scipy.sparse import random as sparse_random, csc_matrix\n",
    "\n",
    "# Example matrix size\n",
    "n = 100\n",
    "\n",
    "# Generate a random sparse matrix (for demonstration purposes)\n",
    "rng = np.random.default_rng()\n",
    "matrix_float64 = sparse_random(n, n, density=0.1, format='csc', data_rvs=rng.random).astype(np.float64)\n",
    "matrix_float32 = matrix_float64.astype(np.float32)\n",
    "matrix_float16 = matrix_float64.astype(np.float16)\n",
    "\n",
    "# Function to perform a series of matrix multiplications\n",
    "def multiply_matrix(matrix, steps):\n",
    "    result = matrix\n",
    "    for _ in range(steps):\n",
    "        result = result @ matrix\n",
    "    return result\n",
    "\n",
    "# Perform the operations\n",
    "steps = 5\n",
    "result_64 = multiply_matrix(matrix_float64, steps)\n",
    "result_32 = multiply_matrix(matrix_float32, steps)\n",
    "result_16 = multiply_matrix(matrix_float16, steps)\n",
    "\n",
    "# Compare the results\n",
    "diff_64_32 = np.abs(result_64 - result_32.astype(np.float64))\n",
    "diff_64_16 = np.abs(result_64 - result_16.astype(np.float64))\n",
    "\n",
    "# Print maximum differences\n",
    "print(f\"Max difference between float64 and float32: {diff_64_32.max()}\")\n",
    "print(f\"Max difference between float64 and float16: {diff_64_16.max()}\")"
   ]
  },
  {
   "cell_type": "markdown",
   "id": "333ed49a-ae1a-44fe-92b6-bc2538fde441",
   "metadata": {
    "id": "333ed49a-ae1a-44fe-92b6-bc2538fde441"
   },
   "source": [
    "So we need float32."
   ]
  },
  {
   "cell_type": "markdown",
   "id": "62159299-c9fe-4d4f-91a2-17c21e9b1252",
   "metadata": {
    "id": "62159299-c9fe-4d4f-91a2-17c21e9b1252"
   },
   "source": [
    "# parallelising vs. not"
   ]
  },
  {
   "cell_type": "code",
   "execution_count": null,
   "id": "97802eb0-c7e5-436b-b0ea-b8703b128826",
   "metadata": {
    "id": "97802eb0-c7e5-436b-b0ea-b8703b128826"
   },
   "outputs": [],
   "source": [
    "import multiprocessing\n",
    "import time\n",
    "\n",
    "import numpy as np"
   ]
  },
  {
   "cell_type": "code",
   "execution_count": null,
   "id": "de559fb8-7344-4ed5-86e4-dcdb2df59064",
   "metadata": {
    "id": "de559fb8-7344-4ed5-86e4-dcdb2df59064"
   },
   "outputs": [],
   "source": [
    "num_cores = multiprocessing.cpu_count()"
   ]
  },
  {
   "cell_type": "code",
   "execution_count": null,
   "id": "948c2156-5efe-4816-88c7-abb5637dbfa1",
   "metadata": {
    "id": "948c2156-5efe-4816-88c7-abb5637dbfa1"
   },
   "outputs": [],
   "source": [
    "# Define the matrix multiplication function\n",
    "def matrix_multiply(args):\n",
    "    A, B = args\n",
    "    return np.dot(A, B)"
   ]
  },
  {
   "cell_type": "code",
   "execution_count": null,
   "id": "ec099612-e964-4f02-85d3-1f79ffff04a6",
   "metadata": {
    "id": "ec099612-e964-4f02-85d3-1f79ffff04a6"
   },
   "outputs": [],
   "source": [
    "# Create two random matrices of size 1000x1000\n",
    "A = np.random.rand(1000, 1000)\n",
    "B = np.random.rand(1000, 1000)\n",
    "\n",
    "# Split the matrices into 4 parts\n",
    "A_parts = np.array_split(A, 4, axis=1)\n",
    "B_parts = np.array_split(B, 4)"
   ]
  },
  {
   "cell_type": "code",
   "execution_count": null,
   "id": "3d8b3acd-a55e-4f4a-9f6b-e0335f2f5ed9",
   "metadata": {
    "id": "3d8b3acd-a55e-4f4a-9f6b-e0335f2f5ed9"
   },
   "outputs": [],
   "source": [
    "from concurrent.futures import ProcessPoolExecutor\n"
   ]
  },
  {
   "cell_type": "code",
   "execution_count": null,
   "id": "d23db9b6-9f59-4c0b-afd4-610bc71ab0bc",
   "metadata": {
    "id": "d23db9b6-9f59-4c0b-afd4-610bc71ab0bc",
    "outputId": "0b742fd0-3d38-478c-e1a5-694cdd3a789e"
   },
   "outputs": [],
   "source": [
    "start = time.time()\n",
    "\n",
    "# # Map the matrix multiplication function to the 4 parts of the matrices\n",
    "# C_parts = pool.map(matrix_multiply,\n",
    "#                    [(A_part, B_part) for A_part, B_part in zip(A_parts, B_parts)])\n",
    "with ProcessPoolExecutor() as executor:\n",
    "    futures = [executor.submit(matrix_multiply, A_part, B_part) for A_part, B_part in zip(A_parts, B_parts)]\n",
    "    C_parts = [f.result() for f in futures]\n",
    "\n",
    "# Concatenate the parts of the result matrix\n",
    "C = np.concatenate(C_parts, axis=1)\n",
    "\n",
    "end = time.time()\n",
    "print(end - start)"
   ]
  },
  {
   "cell_type": "code",
   "execution_count": null,
   "id": "3b47a57a-6b51-4c0d-912a-0019ac4b02a5",
   "metadata": {
    "id": "3b47a57a-6b51-4c0d-912a-0019ac4b02a5"
   },
   "outputs": [],
   "source": [
    "\n",
    "\n",
    "\n"
   ]
  },
  {
   "cell_type": "code",
   "execution_count": null,
   "id": "2102d9d5-93a3-4254-81a2-a32058fde7c7",
   "metadata": {
    "id": "2102d9d5-93a3-4254-81a2-a32058fde7c7"
   },
   "outputs": [],
   "source": []
  }
 ],
 "metadata": {
  "accelerator": "GPU",
  "colab": {
   "gpuType": "T4",
   "provenance": [],
   "toc_visible": true
  },
  "kernelspec": {
   "display_name": "Python 3 (ipykernel)",
   "language": "python",
   "name": "python3"
  },
  "language_info": {
   "codemirror_mode": {
    "name": "ipython",
    "version": 3
   },
   "file_extension": ".py",
   "mimetype": "text/x-python",
   "name": "python",
   "nbconvert_exporter": "python",
   "pygments_lexer": "ipython3",
   "version": "3.11.5"
  }
 },
 "nbformat": 4,
 "nbformat_minor": 5
}
