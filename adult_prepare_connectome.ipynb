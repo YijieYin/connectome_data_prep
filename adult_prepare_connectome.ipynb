{
 "cells": [
  {
   "cell_type": "code",
   "execution_count": null,
   "id": "a86f76d0-ea12-443c-b2b7-dc5f77d58ef8",
   "metadata": {},
   "outputs": [],
   "source": [
    "import pandas as pd \n",
    "import numpy as np\n",
    "\n",
    "import seaserpent as ss\n",
    "from scipy.sparse import csc_matrix\n",
    "from scipy.sparse import csc_matrix, diags\n",
    "from tqdm import tqdm"
   ]
  },
  {
   "cell_type": "code",
   "execution_count": null,
   "id": "e42882b0-e57d-4352-8882-4c21f851396b",
   "metadata": {},
   "outputs": [],
   "source": [
    "# read from info \n",
    "info = ss.Table('info', base='main')\n",
    "infodf = info.to_frame()\n",
    "# and remove the ones with bad statuses \n",
    "infodf = infodf.loc[~infodf.status.isin(['bad_nucleus','tiny','not_a_neuron','duplicate']),:]\n",
    "infodf"
   ]
  },
  {
   "cell_type": "code",
   "execution_count": null,
   "id": "0e95f1f6-6649-43d7-9ba9-6d3a40818d34",
   "metadata": {},
   "outputs": [],
   "source": [
    "infodf.super_class.value_counts()"
   ]
  },
  {
   "cell_type": "code",
   "execution_count": null,
   "id": "34cdce3b-d663-48e0-8ac3-4558023094dd",
   "metadata": {},
   "outputs": [],
   "source": [
    "cb = infodf[infodf.super_class.isin(['central','visual_projection','sensory','ascending','descending','visual_centrifugal','motor','endocrine'])]"
   ]
  },
  {
   "cell_type": "code",
   "execution_count": null,
   "id": "1404bced-e48c-4261-80c8-bfe289e5a9bf",
   "metadata": {},
   "outputs": [],
   "source": [
    "# apparently there are some NA values for newly-added ids \n",
    "cb[cb.root_630.isna()]"
   ]
  },
  {
   "cell_type": "code",
   "execution_count": null,
   "id": "e2397a5b-f953-4e54-9237-ce1978d843ce",
   "metadata": {},
   "outputs": [],
   "source": [
    "cb = cb[~cb.root_630.isna()]\n",
    "# match the type from conn below \n",
    "cb.loc[:,'root_630'] = cb.root_630.astype(np.int64)"
   ]
  },
  {
   "cell_type": "code",
   "execution_count": null,
   "id": "a372d0b8-6cb6-45b2-9fc6-6141c659e3a6",
   "metadata": {},
   "outputs": [],
   "source": [
    "conn = pd.read_feather('/Users/yijieyin/Downloads/syn_proof_analysis_filtered_630.feather')\n",
    "conn"
   ]
  },
  {
   "cell_type": "code",
   "execution_count": null,
   "id": "d7164283-8636-463f-a8f1-fdf54192e410",
   "metadata": {},
   "outputs": [],
   "source": [
    "# filter for the connectivity between components of the central brain \n",
    "conn = conn[conn.pre_pt_root_id.isin(cb.root_630) & conn.post_pt_root_id.isin(cb.root_630)]"
   ]
  },
  {
   "cell_type": "code",
   "execution_count": null,
   "id": "92948f96-3a6e-4e97-92c8-aad0264414ef",
   "metadata": {},
   "outputs": [],
   "source": [
    "conncb = conn.groupby(['pre_pt_root_id','post_pt_root_id'])['syn_count'].sum().reset_index()\n",
    "conncb"
   ]
  },
  {
   "cell_type": "code",
   "execution_count": null,
   "id": "c6ead95c-bcbf-48a4-bb19-5ba730bf63a2",
   "metadata": {},
   "outputs": [],
   "source": [
    "len(conncb.pre_pt_root_id.unique())"
   ]
  },
  {
   "cell_type": "code",
   "execution_count": null,
   "id": "2c30769f-394c-4fef-9986-d4c5680ce6d7",
   "metadata": {},
   "outputs": [],
   "source": [
    "pivot_table = conncb.pivot_table(index='pre_pt_root_id', columns='post_pt_root_id', values='syn_count', fill_value=0)\n",
    "nodes = list(set(conncb['pre_pt_root_id']).union(set(conncb['post_pt_root_id'])))\n",
    "# Reindex the pivot table to ensure it includes all nodes in both rows and columns\n",
    "pivot_table = pivot_table.reindex(index=nodes, columns=nodes, fill_value=0)"
   ]
  },
  {
   "cell_type": "code",
   "execution_count": null,
   "id": "26aa1d29-0853-46f0-af80-993baba34dfe",
   "metadata": {},
   "outputs": [],
   "source": [
    "inprop = pivot_table.div(pivot_table.sum(axis = 'rows'), axis = 'columns')"
   ]
  },
  {
   "cell_type": "code",
   "execution_count": null,
   "id": "ee7b85dd-2c56-4cbf-b593-4df93d43847b",
   "metadata": {},
   "outputs": [],
   "source": [
    "super_classes = dict(zip(cb.root_630, cb.super_class))\n",
    "\n",
    "selected_indices = [i for i, rid in enumerate(inprop.columns) if super_classes[rid] in ['sensory','ascending']]"
   ]
  },
  {
   "cell_type": "code",
   "execution_count": null,
   "id": "5c363031-ffd2-45ae-a623-d9c406f7723c",
   "metadata": {},
   "outputs": [],
   "source": [
    "super_classes = dict(zip(cb.root_630, cb.super_class))\n",
    "inclass = [rid for rid, sclass in super_classes.items() if sclass in ['sensory','ascending']]"
   ]
  },
  {
   "cell_type": "code",
   "execution_count": null,
   "id": "10493fbd-d2b9-4708-a0f4-00d637f1d2d0",
   "metadata": {},
   "outputs": [],
   "source": [
    "def generate_steps(skids_indices, inprop, step_number, threshold=0): \n",
    "    # Ensure inprop is a sparse matrix\n",
    "    if not isinstance(inprop, csc_matrix):\n",
    "        inprop = csc_matrix(inprop)\n",
    "    \n",
    "    # Create the initial almost-identity matrix\n",
    "    ini = csc_matrix((inprop.shape[0], inprop.shape[1]))\n",
    "    diag_values = [1 if i in skids_indices else 0 for i in range(inprop.shape[1])]\n",
    "    ini.setdiag(diag_values)\n",
    "    \n",
    "    steps_fast = []\n",
    "    for i in tqdm(range(step_number)): \n",
    "        if i == 0: \n",
    "            unthresholded = ini @ inprop\n",
    "        else: \n",
    "            unthresholded = steps_fast[-1] @ inprop\n",
    "        \n",
    "        # Thresholding\n",
    "        if threshold == 0:\n",
    "            mask = unthresholded > threshold\n",
    "        else:\n",
    "            mask = unthresholded >= threshold\n",
    "        thresholded = unthresholded.multiply(mask)\n",
    "        \n",
    "        # rounding \n",
    "        thresholded.data = np.round(thresholded.data, decimals=4) \n",
    "        \n",
    "        # check density \n",
    "        density = thresholded.nnz / (thresholded.shape[0] * thresholded.shape[1])\n",
    "        print(f\"Matrix density at step {idx}: {density:.4f}\")\n",
    "        \n",
    "        steps_fast.append(thresholded)\n",
    "    \n",
    "    return steps_fast\n"
   ]
  }
 ],
 "metadata": {
  "kernelspec": {
   "display_name": "Python 3 (ipykernel)",
   "language": "python",
   "name": "python3"
  },
  "language_info": {
   "codemirror_mode": {
    "name": "ipython",
    "version": 3
   },
   "file_extension": ".py",
   "mimetype": "text/x-python",
   "name": "python",
   "nbconvert_exporter": "python",
   "pygments_lexer": "ipython3",
   "version": "3.8.11"
  }
 },
 "nbformat": 4,
 "nbformat_minor": 5
}
