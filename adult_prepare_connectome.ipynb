{
 "cells": [
  {
   "cell_type": "code",
   "execution_count": 1,
   "id": "a86f76d0-ea12-443c-b2b7-dc5f77d58ef8",
   "metadata": {
    "id": "a86f76d0-ea12-443c-b2b7-dc5f77d58ef8"
   },
   "outputs": [],
   "source": [
    "import pandas as pd\n",
    "import numpy as np\n",
    "import sys\n",
    "import matplotlib.pyplot as plt\n",
    "import time\n",
    "from scipy.sparse import csc_matrix, coo_matrix, diags\n",
    "import scipy as sp\n",
    "from tqdm import tqdm"
   ]
  },
  {
   "cell_type": "code",
   "execution_count": 2,
   "id": "wmez1ZUXRcKV",
   "metadata": {
    "id": "wmez1ZUXRcKV"
   },
   "outputs": [],
   "source": [
    "import seaserpent as ss"
   ]
  },
  {
   "cell_type": "markdown",
   "id": "a1fbd858-712b-4ba0-87c8-400ad6500224",
   "metadata": {
    "id": "a1fbd858-712b-4ba0-87c8-400ad6500224"
   },
   "source": [
    "# reading data"
   ]
  },
  {
   "cell_type": "code",
   "execution_count": 3,
   "id": "d9e08878-d05a-4ebd-b89b-81a77d59ea5e",
   "metadata": {
    "id": "d9e08878-d05a-4ebd-b89b-81a77d59ea5e"
   },
   "outputs": [
    {
     "name": "stderr",
     "output_type": "stream",
     "text": [
      "C:\\Users\\44745\\AppData\\Local\\Temp\\ipykernel_71256\\649695127.py:1: DtypeWarning: Columns (14,15,16,17,23) have mixed types. Specify dtype option on import or set low_memory=False.\n",
      "  info = pd.read_csv('https://raw.githubusercontent.com/flyconnectome/flywire_annotations/main/supplemental_files/Supplemental_file1_neuron_annotations.tsv',\n"
     ]
    },
    {
     "data": {
      "text/plain": [
       "Index(['supervoxel_id', 'root_id', 'pos_x', 'pos_y', 'pos_z', 'soma_x',\n",
       "       'soma_y', 'soma_z', 'nucleus_id', 'flow', 'super_class', 'cell_class',\n",
       "       'cell_sub_class', 'cell_type', 'hemibrain_type', 'ito_lee_hemilineage',\n",
       "       'hartenstein_hemilineage', 'morphology_group', 'top_nt', 'top_nt_conf',\n",
       "       'known_nt', 'known_nt_source', 'side', 'nerve', 'vfb_id', 'fbbt_id',\n",
       "       'status'],\n",
       "      dtype='object')"
      ]
     },
     "execution_count": 3,
     "metadata": {},
     "output_type": "execute_result"
    }
   ],
   "source": [
    "info = pd.read_csv('https://raw.githubusercontent.com/flyconnectome/flywire_annotations/main/supplemental_files/Supplemental_file1_neuron_annotations.tsv',\n",
    "                   delimiter = '\\t')\n",
    "info.columns"
   ]
  },
  {
   "cell_type": "code",
   "execution_count": 4,
   "id": "664471d0-8240-4658-8569-a8b2d0179d92",
   "metadata": {
    "id": "664471d0-8240-4658-8569-a8b2d0179d92"
   },
   "outputs": [
    {
     "data": {
      "text/plain": [
       "super_class\n",
       "optic                 77536\n",
       "central               32388\n",
       "sensory               16903\n",
       "visual_projection      8053\n",
       "ascending              2362\n",
       "descending             1303\n",
       "visual_centrifugal      524\n",
       "motor                   106\n",
       "endocrine                80\n",
       "Name: count, dtype: int64"
      ]
     },
     "execution_count": 4,
     "metadata": {},
     "output_type": "execute_result"
    }
   ],
   "source": [
    "info.super_class.value_counts(dropna = False)"
   ]
  },
  {
   "cell_type": "code",
   "execution_count": 5,
   "id": "02cc34eb-32a3-4549-a707-e87f1b2b38a3",
   "metadata": {
    "id": "02cc34eb-32a3-4549-a707-e87f1b2b38a3"
   },
   "outputs": [
    {
     "data": {
      "text/html": [
       "<div>\n",
       "<style scoped>\n",
       "    .dataframe tbody tr th:only-of-type {\n",
       "        vertical-align: middle;\n",
       "    }\n",
       "\n",
       "    .dataframe tbody tr th {\n",
       "        vertical-align: top;\n",
       "    }\n",
       "\n",
       "    .dataframe thead th {\n",
       "        text-align: right;\n",
       "    }\n",
       "</style>\n",
       "<table border=\"1\" class=\"dataframe\">\n",
       "  <thead>\n",
       "    <tr style=\"text-align: right;\">\n",
       "      <th></th>\n",
       "      <th>supervoxel_id</th>\n",
       "      <th>root_id</th>\n",
       "      <th>pos_x</th>\n",
       "      <th>pos_y</th>\n",
       "      <th>pos_z</th>\n",
       "      <th>soma_x</th>\n",
       "      <th>soma_y</th>\n",
       "      <th>soma_z</th>\n",
       "      <th>nucleus_id</th>\n",
       "      <th>flow</th>\n",
       "      <th>...</th>\n",
       "      <th>morphology_group</th>\n",
       "      <th>top_nt</th>\n",
       "      <th>top_nt_conf</th>\n",
       "      <th>known_nt</th>\n",
       "      <th>known_nt_source</th>\n",
       "      <th>side</th>\n",
       "      <th>nerve</th>\n",
       "      <th>vfb_id</th>\n",
       "      <th>fbbt_id</th>\n",
       "      <th>status</th>\n",
       "    </tr>\n",
       "  </thead>\n",
       "  <tbody>\n",
       "    <tr>\n",
       "      <th>0</th>\n",
       "      <td>78112261444987077</td>\n",
       "      <td>720575940628857210</td>\n",
       "      <td>109306</td>\n",
       "      <td>50491</td>\n",
       "      <td>3960</td>\n",
       "      <td>104904.0</td>\n",
       "      <td>47464.0</td>\n",
       "      <td>5461.0</td>\n",
       "      <td>2453924.0</td>\n",
       "      <td>intrinsic</td>\n",
       "      <td>...</td>\n",
       "      <td>NaN</td>\n",
       "      <td>acetylcholine</td>\n",
       "      <td>0.917977</td>\n",
       "      <td>NaN</td>\n",
       "      <td>NaN</td>\n",
       "      <td>left</td>\n",
       "      <td>NaN</td>\n",
       "      <td>fw138205</td>\n",
       "      <td>FBbt_20001935</td>\n",
       "      <td>NaN</td>\n",
       "    </tr>\n",
       "    <tr>\n",
       "      <th>1</th>\n",
       "      <td>82475466912542440</td>\n",
       "      <td>720575940626838909</td>\n",
       "      <td>172029</td>\n",
       "      <td>55635</td>\n",
       "      <td>1592</td>\n",
       "      <td>177472.0</td>\n",
       "      <td>56936.0</td>\n",
       "      <td>1429.0</td>\n",
       "      <td>7393349.0</td>\n",
       "      <td>intrinsic</td>\n",
       "      <td>...</td>\n",
       "      <td>VLPl2_medial__0</td>\n",
       "      <td>acetylcholine</td>\n",
       "      <td>0.645442</td>\n",
       "      <td>NaN</td>\n",
       "      <td>NaN</td>\n",
       "      <td>right</td>\n",
       "      <td>NaN</td>\n",
       "      <td>fw000001</td>\n",
       "      <td>NaN</td>\n",
       "      <td>NaN</td>\n",
       "    </tr>\n",
       "    <tr>\n",
       "      <th>2</th>\n",
       "      <td>83038623024880664</td>\n",
       "      <td>720575940626046919</td>\n",
       "      <td>180632</td>\n",
       "      <td>58664</td>\n",
       "      <td>1925</td>\n",
       "      <td>180632.0</td>\n",
       "      <td>58664.0</td>\n",
       "      <td>1925.0</td>\n",
       "      <td>7415038.0</td>\n",
       "      <td>intrinsic</td>\n",
       "      <td>...</td>\n",
       "      <td>NaN</td>\n",
       "      <td>acetylcholine</td>\n",
       "      <td>0.844781</td>\n",
       "      <td>NaN</td>\n",
       "      <td>NaN</td>\n",
       "      <td>right</td>\n",
       "      <td>NaN</td>\n",
       "      <td>fw000002</td>\n",
       "      <td>FBbt_20000538</td>\n",
       "      <td>NaN</td>\n",
       "    </tr>\n",
       "    <tr>\n",
       "      <th>3</th>\n",
       "      <td>79801523353604463</td>\n",
       "      <td>720575940630311383</td>\n",
       "      <td>133800</td>\n",
       "      <td>56063</td>\n",
       "      <td>1847</td>\n",
       "      <td>180728.0</td>\n",
       "      <td>61008.0</td>\n",
       "      <td>1630.0</td>\n",
       "      <td>7415013.0</td>\n",
       "      <td>intrinsic</td>\n",
       "      <td>...</td>\n",
       "      <td>NaN</td>\n",
       "      <td>acetylcholine</td>\n",
       "      <td>0.760387</td>\n",
       "      <td>NaN</td>\n",
       "      <td>NaN</td>\n",
       "      <td>right</td>\n",
       "      <td>NaN</td>\n",
       "      <td>fw000003</td>\n",
       "      <td>FBbt_20000260</td>\n",
       "      <td>NaN</td>\n",
       "    </tr>\n",
       "    <tr>\n",
       "      <th>4</th>\n",
       "      <td>83038554439606237</td>\n",
       "      <td>720575940633370649</td>\n",
       "      <td>180496</td>\n",
       "      <td>57448</td>\n",
       "      <td>2989</td>\n",
       "      <td>180496.0</td>\n",
       "      <td>57448.0</td>\n",
       "      <td>2989.0</td>\n",
       "      <td>7415848.0</td>\n",
       "      <td>intrinsic</td>\n",
       "      <td>...</td>\n",
       "      <td>NaN</td>\n",
       "      <td>acetylcholine</td>\n",
       "      <td>0.895458</td>\n",
       "      <td>NaN</td>\n",
       "      <td>NaN</td>\n",
       "      <td>right</td>\n",
       "      <td>NaN</td>\n",
       "      <td>fw000004</td>\n",
       "      <td>FBbt_00051248</td>\n",
       "      <td>NaN</td>\n",
       "    </tr>\n",
       "    <tr>\n",
       "      <th>...</th>\n",
       "      <td>...</td>\n",
       "      <td>...</td>\n",
       "      <td>...</td>\n",
       "      <td>...</td>\n",
       "      <td>...</td>\n",
       "      <td>...</td>\n",
       "      <td>...</td>\n",
       "      <td>...</td>\n",
       "      <td>...</td>\n",
       "      <td>...</td>\n",
       "      <td>...</td>\n",
       "      <td>...</td>\n",
       "      <td>...</td>\n",
       "      <td>...</td>\n",
       "      <td>...</td>\n",
       "      <td>...</td>\n",
       "      <td>...</td>\n",
       "      <td>...</td>\n",
       "      <td>...</td>\n",
       "      <td>...</td>\n",
       "      <td>...</td>\n",
       "    </tr>\n",
       "    <tr>\n",
       "      <th>123502</th>\n",
       "      <td>79587599823629322</td>\n",
       "      <td>720575940618417409</td>\n",
       "      <td>130350</td>\n",
       "      <td>14001</td>\n",
       "      <td>3229</td>\n",
       "      <td>NaN</td>\n",
       "      <td>NaN</td>\n",
       "      <td>NaN</td>\n",
       "      <td>NaN</td>\n",
       "      <td>afferent</td>\n",
       "      <td>...</td>\n",
       "      <td>NaN</td>\n",
       "      <td>NaN</td>\n",
       "      <td>NaN</td>\n",
       "      <td>NaN</td>\n",
       "      <td>NaN</td>\n",
       "      <td>left</td>\n",
       "      <td>OCN</td>\n",
       "      <td>fw123599</td>\n",
       "      <td>FBbt_00004242</td>\n",
       "      <td>NaN</td>\n",
       "    </tr>\n",
       "    <tr>\n",
       "      <th>123503</th>\n",
       "      <td>79587599823608864</td>\n",
       "      <td>720575940628941553</td>\n",
       "      <td>130046</td>\n",
       "      <td>14747</td>\n",
       "      <td>3205</td>\n",
       "      <td>NaN</td>\n",
       "      <td>NaN</td>\n",
       "      <td>NaN</td>\n",
       "      <td>NaN</td>\n",
       "      <td>afferent</td>\n",
       "      <td>...</td>\n",
       "      <td>NaN</td>\n",
       "      <td>serotonin</td>\n",
       "      <td>0.734219</td>\n",
       "      <td>NaN</td>\n",
       "      <td>NaN</td>\n",
       "      <td>left</td>\n",
       "      <td>OCN</td>\n",
       "      <td>fw123600</td>\n",
       "      <td>FBbt_00004242</td>\n",
       "      <td>NaN</td>\n",
       "    </tr>\n",
       "    <tr>\n",
       "      <th>123504</th>\n",
       "      <td>79728680842360672</td>\n",
       "      <td>720575940612567258</td>\n",
       "      <td>132026</td>\n",
       "      <td>19096</td>\n",
       "      <td>3069</td>\n",
       "      <td>NaN</td>\n",
       "      <td>NaN</td>\n",
       "      <td>NaN</td>\n",
       "      <td>NaN</td>\n",
       "      <td>afferent</td>\n",
       "      <td>...</td>\n",
       "      <td>NaN</td>\n",
       "      <td>serotonin</td>\n",
       "      <td>0.729409</td>\n",
       "      <td>NaN</td>\n",
       "      <td>NaN</td>\n",
       "      <td>center</td>\n",
       "      <td>OCN</td>\n",
       "      <td>fw123601</td>\n",
       "      <td>FBbt_00004242</td>\n",
       "      <td>NaN</td>\n",
       "    </tr>\n",
       "    <tr>\n",
       "      <th>123505</th>\n",
       "      <td>79798912214529467</td>\n",
       "      <td>720575940630757750</td>\n",
       "      <td>133378</td>\n",
       "      <td>17839</td>\n",
       "      <td>3166</td>\n",
       "      <td>NaN</td>\n",
       "      <td>NaN</td>\n",
       "      <td>NaN</td>\n",
       "      <td>NaN</td>\n",
       "      <td>afferent</td>\n",
       "      <td>...</td>\n",
       "      <td>NaN</td>\n",
       "      <td>serotonin</td>\n",
       "      <td>0.544816</td>\n",
       "      <td>NaN</td>\n",
       "      <td>NaN</td>\n",
       "      <td>center</td>\n",
       "      <td>OCN</td>\n",
       "      <td>fw123602</td>\n",
       "      <td>FBbt_00004242</td>\n",
       "      <td>NaN</td>\n",
       "    </tr>\n",
       "    <tr>\n",
       "      <th>123506</th>\n",
       "      <td>79728543403637298</td>\n",
       "      <td>720575940615893058</td>\n",
       "      <td>132533</td>\n",
       "      <td>17778</td>\n",
       "      <td>3077</td>\n",
       "      <td>NaN</td>\n",
       "      <td>NaN</td>\n",
       "      <td>NaN</td>\n",
       "      <td>NaN</td>\n",
       "      <td>afferent</td>\n",
       "      <td>...</td>\n",
       "      <td>NaN</td>\n",
       "      <td>serotonin</td>\n",
       "      <td>0.477995</td>\n",
       "      <td>NaN</td>\n",
       "      <td>NaN</td>\n",
       "      <td>center</td>\n",
       "      <td>OCN</td>\n",
       "      <td>fw123603</td>\n",
       "      <td>FBbt_00004242</td>\n",
       "      <td>NaN</td>\n",
       "    </tr>\n",
       "  </tbody>\n",
       "</table>\n",
       "<p>50601 rows × 27 columns</p>\n",
       "</div>"
      ],
      "text/plain": [
       "            supervoxel_id             root_id   pos_x  pos_y  pos_z    soma_x  \\\n",
       "0       78112261444987077  720575940628857210  109306  50491   3960  104904.0   \n",
       "1       82475466912542440  720575940626838909  172029  55635   1592  177472.0   \n",
       "2       83038623024880664  720575940626046919  180632  58664   1925  180632.0   \n",
       "3       79801523353604463  720575940630311383  133800  56063   1847  180728.0   \n",
       "4       83038554439606237  720575940633370649  180496  57448   2989  180496.0   \n",
       "...                   ...                 ...     ...    ...    ...       ...   \n",
       "123502  79587599823629322  720575940618417409  130350  14001   3229       NaN   \n",
       "123503  79587599823608864  720575940628941553  130046  14747   3205       NaN   \n",
       "123504  79728680842360672  720575940612567258  132026  19096   3069       NaN   \n",
       "123505  79798912214529467  720575940630757750  133378  17839   3166       NaN   \n",
       "123506  79728543403637298  720575940615893058  132533  17778   3077       NaN   \n",
       "\n",
       "         soma_y  soma_z  nucleus_id       flow  ... morphology_group  \\\n",
       "0       47464.0  5461.0   2453924.0  intrinsic  ...              NaN   \n",
       "1       56936.0  1429.0   7393349.0  intrinsic  ...  VLPl2_medial__0   \n",
       "2       58664.0  1925.0   7415038.0  intrinsic  ...              NaN   \n",
       "3       61008.0  1630.0   7415013.0  intrinsic  ...              NaN   \n",
       "4       57448.0  2989.0   7415848.0  intrinsic  ...              NaN   \n",
       "...         ...     ...         ...        ...  ...              ...   \n",
       "123502      NaN     NaN         NaN   afferent  ...              NaN   \n",
       "123503      NaN     NaN         NaN   afferent  ...              NaN   \n",
       "123504      NaN     NaN         NaN   afferent  ...              NaN   \n",
       "123505      NaN     NaN         NaN   afferent  ...              NaN   \n",
       "123506      NaN     NaN         NaN   afferent  ...              NaN   \n",
       "\n",
       "               top_nt top_nt_conf known_nt known_nt_source    side nerve  \\\n",
       "0       acetylcholine    0.917977      NaN             NaN    left   NaN   \n",
       "1       acetylcholine    0.645442      NaN             NaN   right   NaN   \n",
       "2       acetylcholine    0.844781      NaN             NaN   right   NaN   \n",
       "3       acetylcholine    0.760387      NaN             NaN   right   NaN   \n",
       "4       acetylcholine    0.895458      NaN             NaN   right   NaN   \n",
       "...               ...         ...      ...             ...     ...   ...   \n",
       "123502            NaN         NaN      NaN             NaN    left   OCN   \n",
       "123503      serotonin    0.734219      NaN             NaN    left   OCN   \n",
       "123504      serotonin    0.729409      NaN             NaN  center   OCN   \n",
       "123505      serotonin    0.544816      NaN             NaN  center   OCN   \n",
       "123506      serotonin    0.477995      NaN             NaN  center   OCN   \n",
       "\n",
       "          vfb_id        fbbt_id  status  \n",
       "0       fw138205  FBbt_20001935     NaN  \n",
       "1       fw000001            NaN     NaN  \n",
       "2       fw000002  FBbt_20000538     NaN  \n",
       "3       fw000003  FBbt_20000260     NaN  \n",
       "4       fw000004  FBbt_00051248     NaN  \n",
       "...          ...            ...     ...  \n",
       "123502  fw123599  FBbt_00004242     NaN  \n",
       "123503  fw123600  FBbt_00004242     NaN  \n",
       "123504  fw123601  FBbt_00004242     NaN  \n",
       "123505  fw123602  FBbt_00004242     NaN  \n",
       "123506  fw123603  FBbt_00004242     NaN  \n",
       "\n",
       "[50601 rows x 27 columns]"
      ]
     },
     "execution_count": 5,
     "metadata": {},
     "output_type": "execute_result"
    }
   ],
   "source": [
    "# to make the matrix smaller, let's take visual projection neurons as visual input, and remove the optic lobe neurons\n",
    "cb = info[~info.super_class.isin(['optic'])]\n",
    "# filter out the visual sensory neurons, except for the ocellar ones\n",
    "cb = cb[(cb.cell_class != 'visual') | (cb.cell_type == 'ocellar retinula cell')]\n",
    "cb"
   ]
  },
  {
   "cell_type": "code",
   "execution_count": 6,
   "id": "7a545e93-c237-4cce-b616-7ebfff098bc8",
   "metadata": {
    "id": "7a545e93-c237-4cce-b616-7ebfff098bc8"
   },
   "outputs": [
    {
     "data": {
      "text/plain": [
       "cell_class\n",
       "mechanosensory     2648\n",
       "olfactory          2281\n",
       "gustatory           343\n",
       "visual              273\n",
       "unknown_sensory     135\n",
       "hygrosensory         74\n",
       "thermosensory        29\n",
       "Name: count, dtype: int64"
      ]
     },
     "execution_count": 6,
     "metadata": {},
     "output_type": "execute_result"
    }
   ],
   "source": [
    "# which sensory modalities are there?\n",
    "cb[cb.super_class == 'sensory']['cell_class'].value_counts()"
   ]
  },
  {
   "cell_type": "code",
   "execution_count": 7,
   "id": "d53ce7a5-c369-4d91-9a77-823530a80245",
   "metadata": {
    "id": "14961280-fceb-4fa6-9123-45f87890e9ad"
   },
   "outputs": [
    {
     "data": {
      "text/plain": [
       "combined_type\n",
       "KCg-m           2190\n",
       "KCab            1643\n",
       "BM_InOm         1111\n",
       "LC12             380\n",
       "TmY14            370\n",
       "                ... \n",
       "PS230,PLP242       1\n",
       "CB1453             1\n",
       "AVLP458            1\n",
       "PLP243             1\n",
       "DNge151            1\n",
       "Name: count, Length: 8290, dtype: int64"
      ]
     },
     "execution_count": 7,
     "metadata": {},
     "output_type": "execute_result"
    }
   ],
   "source": [
    "cb[\"combined_type\"] = cb.cell_type\n",
    "# fill the leftover nas with hemibrain_type\n",
    "cb.combined_type.fillna(cb.hemibrain_type, inplace= True)\n",
    "cb.combined_type.value_counts()"
   ]
  },
  {
   "cell_type": "markdown",
   "id": "9e673022-c998-41fa-9e02-7e97a4cb5370",
   "metadata": {},
   "source": [
    "## no type"
   ]
  },
  {
   "cell_type": "code",
   "execution_count": 8,
   "id": "c7e1b34c-2927-46bc-9ed0-c018571a4903",
   "metadata": {
    "id": "c7e1b34c-2927-46bc-9ed0-c018571a4903"
   },
   "outputs": [
    {
     "data": {
      "text/plain": [
       "cell_type  hemibrain_type\n",
       "True       False             20602\n",
       "False      True              19691\n",
       "           False              8952\n",
       "True       True               1356\n",
       "Name: count, dtype: int64"
      ]
     },
     "execution_count": 8,
     "metadata": {},
     "output_type": "execute_result"
    }
   ],
   "source": [
    "# how many neurons have no type information?\n",
    "cb[['cell_type','hemibrain_type']].isna().value_counts()"
   ]
  },
  {
   "cell_type": "code",
   "execution_count": 9,
   "id": "5e0922b0-3293-47f1-84bb-f4f2b1492646",
   "metadata": {
    "id": "5e0922b0-3293-47f1-84bb-f4f2b1492646"
   },
   "outputs": [
    {
     "data": {
      "text/plain": [
       "status\n",
       "NaN            1285\n",
       "outlier_bio      44\n",
       "outlier_seg      27\n",
       "Name: count, dtype: int64"
      ]
     },
     "execution_count": 9,
     "metadata": {},
     "output_type": "execute_result"
    }
   ],
   "source": [
    "cbnotype = cb[cb.hemibrain_type.isna() & cb.cell_type.isna()]\n",
    "cbnotype.status.value_counts(dropna=False)"
   ]
  },
  {
   "cell_type": "code",
   "execution_count": 10,
   "id": "e4c5f7da-2cf1-4971-99e5-bf3d1c143fb9",
   "metadata": {
    "id": "e4c5f7da-2cf1-4971-99e5-bf3d1c143fb9"
   },
   "outputs": [
    {
     "data": {
      "text/plain": [
       "ito_lee_hemilineage\n",
       "NaN                 796\n",
       "SLPa&l1_anterior     59\n",
       "LB0_anterior         54\n",
       "putative_primary     30\n",
       "VLPl1_or_VLPl5       17\n",
       "                   ... \n",
       "ALv2                  1\n",
       "DM2_CX_d2             1\n",
       "VPNl&d1_dorsal        1\n",
       "SLPav1_medial         1\n",
       "FLAa3                 1\n",
       "Name: count, Length: 102, dtype: int64"
      ]
     },
     "execution_count": 10,
     "metadata": {},
     "output_type": "execute_result"
    }
   ],
   "source": [
    "# which hemilineages do the neurons without a type belong to?\n",
    "cbnotype[cbnotype.status.isna()].ito_lee_hemilineage.value_counts(dropna = False)"
   ]
  },
  {
   "cell_type": "code",
   "execution_count": 11,
   "id": "eaed48c7-f7c3-4034-afbe-094aba95bc7a",
   "metadata": {
    "id": "eaed48c7-f7c3-4034-afbe-094aba95bc7a"
   },
   "outputs": [
    {
     "data": {
      "text/plain": [
       "super_class\n",
       "central               511\n",
       "ascending             436\n",
       "sensory               312\n",
       "motor                  15\n",
       "visual_projection       7\n",
       "visual_centrifugal      4\n",
       "Name: count, dtype: int64"
      ]
     },
     "execution_count": 11,
     "metadata": {},
     "output_type": "execute_result"
    }
   ],
   "source": [
    "cbnotype[cbnotype.status.isna()].super_class.value_counts()"
   ]
  },
  {
   "cell_type": "code",
   "execution_count": 12,
   "id": "deb6b9a4-58de-49b8-8959-0e4709f6bbb9",
   "metadata": {
    "id": "deb6b9a4-58de-49b8-8959-0e4709f6bbb9"
   },
   "outputs": [
    {
     "data": {
      "text/plain": [
       "array([720575940638707901, 720575940612376690, 720575940623883815,\n",
       "       720575940619857902, 720575940616176571, 720575940631507596,\n",
       "       720575940630674488, 720575940639662069, 720575940617160251,\n",
       "       720575940608766933, 720575940625987390, 720575940640768419,\n",
       "       720575940622287286, 720575940626042556, 720575940635906958,\n",
       "       720575940623441629, 720575940615828573, 720575940641836232,\n",
       "       720575940632375891, 720575940608176452, 720575940619875157,\n",
       "       720575940637070191, 720575940613408563, 720575940631271235,\n",
       "       720575940644377111, 720575940632850327, 720575940629801035,\n",
       "       720575940620224532, 720575940642658701, 720575940637248831,\n",
       "       720575940635733726, 720575940625768721, 720575940615788118,\n",
       "       720575940619625665, 720575940621836246, 720575940623758669,\n",
       "       720575940622324009, 720575940641284853], dtype=int64)"
      ]
     },
     "execution_count": 12,
     "metadata": {},
     "output_type": "execute_result"
    }
   ],
   "source": [
    "cbnotype.root_id[cbnotype.ito_lee_hemilineage.isna() & (cbnotype.super_class == 'central')].values"
   ]
  },
  {
   "cell_type": "markdown",
   "id": "79680ad2-5174-46c6-bf41-28345516065b",
   "metadata": {},
   "source": [
    "# Add CB types from live info?"
   ]
  },
  {
   "cell_type": "code",
   "execution_count": null,
   "id": "57375a1a-9572-4ef6-be92-93eefe04f438",
   "metadata": {
    "id": "57375a1a-9572-4ef6-be92-93eefe04f438"
   },
   "outputs": [],
   "source": [
    "# read from info\n",
    "infolive = ss.Table('info', base='main')\n",
    "infodf = infolive.to_frame()\n",
    "# remove not a neurons and duplicate entries\n",
    "infodf = infodf[~infodf.super_class.isin(['not_a_neuron']) & ~infodf.status.isin(['bad_nucleus','not_a_neuron'])]"
   ]
  },
  {
   "cell_type": "code",
   "execution_count": null,
   "id": "69a41670-c812-4203-89bd-6e22fb2ecff1",
   "metadata": {
    "id": "69a41670-c812-4203-89bd-6e22fb2ecff1"
   },
   "outputs": [],
   "source": [
    "infodfnotype = infodf[infodf.root_783.isin(cbnotype.root_id.astype(str))]\n",
    "infodfnotype.cb_type.value_counts()"
   ]
  },
  {
   "cell_type": "code",
   "execution_count": null,
   "id": "1dd5f831-2899-4f7b-a668-fd4ace3a80a8",
   "metadata": {
    "id": "1dd5f831-2899-4f7b-a668-fd4ace3a80a8"
   },
   "outputs": [],
   "source": [
    "# have a look at a few\n",
    "infodfnotype[infodfnotype.cb_type == 'AN_6_22,29,36,37'].root_783.astype(np.int64).values"
   ]
  },
  {
   "cell_type": "code",
   "execution_count": null,
   "id": "ec1d182b-5943-480f-bb56-61b3a11026c4",
   "metadata": {
    "id": "ec1d182b-5943-480f-bb56-61b3a11026c4"
   },
   "outputs": [],
   "source": [
    "# exclude ones with 'None' in the type name - they don't seem good\n",
    "# first exclude the ones without a cb_type\n",
    "infodfnotype = infodfnotype[~infodfnotype.cb_type.isna()]\n",
    "infodfnotype = infodfnotype[['None' not in cbtype for cbtype in infodfnotype.cb_type]]\n",
    "infodfnotype.cb_type.value_counts()"
   ]
  },
  {
   "cell_type": "code",
   "execution_count": null,
   "id": "8067422f-6fc7-417f-bc15-37274cfcae3f",
   "metadata": {
    "id": "8067422f-6fc7-417f-bc15-37274cfcae3f"
   },
   "outputs": [],
   "source": [
    "infodfnotype.shape"
   ]
  },
  {
   "cell_type": "markdown",
   "id": "9fefa376-5a20-4145-b20e-b50746822519",
   "metadata": {
    "id": "9fefa376-5a20-4145-b20e-b50746822519"
   },
   "source": [
    "So we can add additional labels to ~1700 neurons."
   ]
  },
  {
   "cell_type": "code",
   "execution_count": null,
   "id": "994b3a7e-28cb-43d8-a60b-8439f5ea517c",
   "metadata": {
    "id": "994b3a7e-28cb-43d8-a60b-8439f5ea517c"
   },
   "outputs": [],
   "source": [
    "cbtypes = dict(zip(infodfnotype.root_783.astype(np.int64), infodfnotype.cb_type))"
   ]
  },
  {
   "cell_type": "code",
   "execution_count": null,
   "id": "c6cb3c70-7811-4df8-9c15-05e0386b7cd0",
   "metadata": {},
   "outputs": [],
   "source": [
    "# fill the still leftover nas with cbtype\n",
    "cb.combined_type.fillna(cb.root_id.map(cbtypes), inplace= True)"
   ]
  },
  {
   "cell_type": "markdown",
   "id": "671a47a5-982c-44f5-897e-7a8c8b1efef3",
   "metadata": {
    "id": "671a47a5-982c-44f5-897e-7a8c8b1efef3"
   },
   "source": [
    "# Combine types into one column"
   ]
  },
  {
   "cell_type": "code",
   "execution_count": 13,
   "id": "82fc74c8-e48b-4ba0-aea7-2cf94b349d31",
   "metadata": {},
   "outputs": [],
   "source": [
    "# fill the still leftover nas with root ids\n",
    "cb.combined_type.fillna(cb.root_id.astype(str), inplace= True)"
   ]
  },
  {
   "cell_type": "code",
   "execution_count": 14,
   "id": "59fde38b-b292-4741-a825-c4ca249e6333",
   "metadata": {
    "id": "59fde38b-b292-4741-a825-c4ca249e6333"
   },
   "outputs": [],
   "source": [
    "typedict = dict(zip(cb.root_id, cb.combined_type))\n",
    "sidedict = dict(zip(cb.root_id, cb.side))\n",
    "type_super_class_dict = dict(zip(cb.combined_type, cb.super_class))\n",
    "type_class_dict = dict(zip(cb.combined_type, cb.cell_class)) \n",
    "type_sub_class_dict = dict(zip(cb.combined_type, cb.cell_sub_class))"
   ]
  },
  {
   "cell_type": "code",
   "execution_count": 15,
   "id": "ba5af686-b87e-43fb-8e88-96b1ffd37766",
   "metadata": {},
   "outputs": [],
   "source": [
    "import platform \n",
    "\n",
    "if platform.system() == 'Windows': \n",
    "    conn = pd.read_feather(\n",
    "        'C:/Users/44745/Downloads/syn_proof_analysis_filtered_consolidated_ntavg_783.feather')\n",
    "else: \n",
    "    conn = pd.read_feather('/Users/yijieyin/Downloads/syn_proof_analysis_filtered_consolidated_783.feather')"
   ]
  },
  {
   "cell_type": "code",
   "execution_count": 16,
   "id": "5d382fc7-a1bd-4dbd-a624-26a49b8135b5",
   "metadata": {
    "id": "5d382fc7-a1bd-4dbd-a624-26a49b8135b5"
   },
   "outputs": [
    {
     "data": {
      "text/html": [
       "<div>\n",
       "<style scoped>\n",
       "    .dataframe tbody tr th:only-of-type {\n",
       "        vertical-align: middle;\n",
       "    }\n",
       "\n",
       "    .dataframe tbody tr th {\n",
       "        vertical-align: top;\n",
       "    }\n",
       "\n",
       "    .dataframe thead th {\n",
       "        text-align: right;\n",
       "    }\n",
       "</style>\n",
       "<table border=\"1\" class=\"dataframe\">\n",
       "  <thead>\n",
       "    <tr style=\"text-align: right;\">\n",
       "      <th></th>\n",
       "      <th>pre_pt_root_id</th>\n",
       "      <th>post_pt_root_id</th>\n",
       "      <th>neuropil</th>\n",
       "      <th>syn_count</th>\n",
       "      <th>gaba_avg</th>\n",
       "      <th>ach_avg</th>\n",
       "      <th>glut_avg</th>\n",
       "      <th>oct_avg</th>\n",
       "      <th>ser_avg</th>\n",
       "      <th>da_avg</th>\n",
       "      <th>pre_type</th>\n",
       "      <th>pre_side</th>\n",
       "      <th>post_type</th>\n",
       "      <th>post_side</th>\n",
       "      <th>pre_type_side</th>\n",
       "      <th>post_type_side</th>\n",
       "    </tr>\n",
       "  </thead>\n",
       "  <tbody>\n",
       "    <tr>\n",
       "      <th>0</th>\n",
       "      <td>720575940629970489</td>\n",
       "      <td>720575940631267655</td>\n",
       "      <td>AVLP_R</td>\n",
       "      <td>7</td>\n",
       "      <td>0.654330</td>\n",
       "      <td>0.023704</td>\n",
       "      <td>0.272418</td>\n",
       "      <td>4.812546e-02</td>\n",
       "      <td>0.000472</td>\n",
       "      <td>0.000951</td>\n",
       "      <td>PLP017</td>\n",
       "      <td>right</td>\n",
       "      <td>CB3488</td>\n",
       "      <td>right</td>\n",
       "      <td>PLP017_right</td>\n",
       "      <td>CB3488_right</td>\n",
       "    </tr>\n",
       "    <tr>\n",
       "      <th>1</th>\n",
       "      <td>720575940623828999</td>\n",
       "      <td>720575940612348950</td>\n",
       "      <td>SLP_R</td>\n",
       "      <td>4</td>\n",
       "      <td>0.386517</td>\n",
       "      <td>0.024020</td>\n",
       "      <td>0.580512</td>\n",
       "      <td>8.166312e-04</td>\n",
       "      <td>0.000857</td>\n",
       "      <td>0.007278</td>\n",
       "      <td>LHPV6p1</td>\n",
       "      <td>right</td>\n",
       "      <td>AVLP314</td>\n",
       "      <td>right</td>\n",
       "      <td>LHPV6p1_right</td>\n",
       "      <td>AVLP314_right</td>\n",
       "    </tr>\n",
       "    <tr>\n",
       "      <th>2</th>\n",
       "      <td>720575940624078484</td>\n",
       "      <td>720575940616950161</td>\n",
       "      <td>SMP_R</td>\n",
       "      <td>2</td>\n",
       "      <td>0.001719</td>\n",
       "      <td>0.979256</td>\n",
       "      <td>0.001811</td>\n",
       "      <td>1.633383e-05</td>\n",
       "      <td>0.005870</td>\n",
       "      <td>0.011328</td>\n",
       "      <td>CB0960</td>\n",
       "      <td>left</td>\n",
       "      <td>CB0710</td>\n",
       "      <td>right</td>\n",
       "      <td>CB0960_left</td>\n",
       "      <td>CB0710_right</td>\n",
       "    </tr>\n",
       "    <tr>\n",
       "      <th>3</th>\n",
       "      <td>720575940629583345</td>\n",
       "      <td>720575940620324735</td>\n",
       "      <td>SMP_L</td>\n",
       "      <td>2</td>\n",
       "      <td>0.011815</td>\n",
       "      <td>0.031954</td>\n",
       "      <td>0.472987</td>\n",
       "      <td>9.134340e-03</td>\n",
       "      <td>0.086973</td>\n",
       "      <td>0.387136</td>\n",
       "      <td>CB0960</td>\n",
       "      <td>left</td>\n",
       "      <td>CB2317</td>\n",
       "      <td>left</td>\n",
       "      <td>CB0960_left</td>\n",
       "      <td>CB2317_left</td>\n",
       "    </tr>\n",
       "    <tr>\n",
       "      <th>4</th>\n",
       "      <td>720575940605876866</td>\n",
       "      <td>720575940606514878</td>\n",
       "      <td>LAL_R</td>\n",
       "      <td>15</td>\n",
       "      <td>0.994271</td>\n",
       "      <td>0.005063</td>\n",
       "      <td>0.000522</td>\n",
       "      <td>3.998458e-07</td>\n",
       "      <td>0.000103</td>\n",
       "      <td>0.000040</td>\n",
       "      <td>LAL138</td>\n",
       "      <td>left</td>\n",
       "      <td>CB2018</td>\n",
       "      <td>right</td>\n",
       "      <td>LAL138_left</td>\n",
       "      <td>CB2018_right</td>\n",
       "    </tr>\n",
       "    <tr>\n",
       "      <th>...</th>\n",
       "      <td>...</td>\n",
       "      <td>...</td>\n",
       "      <td>...</td>\n",
       "      <td>...</td>\n",
       "      <td>...</td>\n",
       "      <td>...</td>\n",
       "      <td>...</td>\n",
       "      <td>...</td>\n",
       "      <td>...</td>\n",
       "      <td>...</td>\n",
       "      <td>...</td>\n",
       "      <td>...</td>\n",
       "      <td>...</td>\n",
       "      <td>...</td>\n",
       "      <td>...</td>\n",
       "      <td>...</td>\n",
       "    </tr>\n",
       "    <tr>\n",
       "      <th>16847984</th>\n",
       "      <td>720575940627253510</td>\n",
       "      <td>720575940621326430</td>\n",
       "      <td>SMP_L</td>\n",
       "      <td>1</td>\n",
       "      <td>0.007995</td>\n",
       "      <td>0.983840</td>\n",
       "      <td>0.000792</td>\n",
       "      <td>9.907485e-04</td>\n",
       "      <td>0.000257</td>\n",
       "      <td>0.006124</td>\n",
       "      <td>CB1744</td>\n",
       "      <td>right</td>\n",
       "      <td>SLP134</td>\n",
       "      <td>left</td>\n",
       "      <td>CB1744_right</td>\n",
       "      <td>SLP134_left</td>\n",
       "    </tr>\n",
       "    <tr>\n",
       "      <th>16847990</th>\n",
       "      <td>720575940622010373</td>\n",
       "      <td>720575940634459290</td>\n",
       "      <td>VES_R</td>\n",
       "      <td>2</td>\n",
       "      <td>0.446577</td>\n",
       "      <td>0.407034</td>\n",
       "      <td>0.084707</td>\n",
       "      <td>1.664534e-03</td>\n",
       "      <td>0.007724</td>\n",
       "      <td>0.052293</td>\n",
       "      <td>DNg55</td>\n",
       "      <td>center</td>\n",
       "      <td>DNb08_a</td>\n",
       "      <td>right</td>\n",
       "      <td>DNg55_center</td>\n",
       "      <td>DNb08_a_right</td>\n",
       "    </tr>\n",
       "    <tr>\n",
       "      <th>16847991</th>\n",
       "      <td>720575940624054792</td>\n",
       "      <td>720575940634431935</td>\n",
       "      <td>ICL_L</td>\n",
       "      <td>5</td>\n",
       "      <td>0.012248</td>\n",
       "      <td>0.916746</td>\n",
       "      <td>0.017556</td>\n",
       "      <td>2.496850e-02</td>\n",
       "      <td>0.001025</td>\n",
       "      <td>0.027456</td>\n",
       "      <td>PVLP012</td>\n",
       "      <td>left</td>\n",
       "      <td>PVLP070</td>\n",
       "      <td>left</td>\n",
       "      <td>PVLP012_left</td>\n",
       "      <td>PVLP070_left</td>\n",
       "    </tr>\n",
       "    <tr>\n",
       "      <th>16847992</th>\n",
       "      <td>720575940615769750</td>\n",
       "      <td>720575940622822680</td>\n",
       "      <td>AVLP_L</td>\n",
       "      <td>1</td>\n",
       "      <td>0.004619</td>\n",
       "      <td>0.896132</td>\n",
       "      <td>0.032063</td>\n",
       "      <td>1.844075e-03</td>\n",
       "      <td>0.028945</td>\n",
       "      <td>0.036396</td>\n",
       "      <td>PVLP007</td>\n",
       "      <td>left</td>\n",
       "      <td>AVLP089</td>\n",
       "      <td>left</td>\n",
       "      <td>PVLP007_left</td>\n",
       "      <td>AVLP089_left</td>\n",
       "    </tr>\n",
       "    <tr>\n",
       "      <th>16847994</th>\n",
       "      <td>720575940637397309</td>\n",
       "      <td>720575940633255123</td>\n",
       "      <td>SLP_R</td>\n",
       "      <td>2</td>\n",
       "      <td>0.987325</td>\n",
       "      <td>0.008161</td>\n",
       "      <td>0.004205</td>\n",
       "      <td>8.760364e-06</td>\n",
       "      <td>0.000020</td>\n",
       "      <td>0.000281</td>\n",
       "      <td>CB2036</td>\n",
       "      <td>right</td>\n",
       "      <td>CB1594</td>\n",
       "      <td>right</td>\n",
       "      <td>CB2036_right</td>\n",
       "      <td>CB1594_right</td>\n",
       "    </tr>\n",
       "  </tbody>\n",
       "</table>\n",
       "<p>8188016 rows × 16 columns</p>\n",
       "</div>"
      ],
      "text/plain": [
       "              pre_pt_root_id     post_pt_root_id neuropil  syn_count  \\\n",
       "0         720575940629970489  720575940631267655   AVLP_R          7   \n",
       "1         720575940623828999  720575940612348950    SLP_R          4   \n",
       "2         720575940624078484  720575940616950161    SMP_R          2   \n",
       "3         720575940629583345  720575940620324735    SMP_L          2   \n",
       "4         720575940605876866  720575940606514878    LAL_R         15   \n",
       "...                      ...                 ...      ...        ...   \n",
       "16847984  720575940627253510  720575940621326430    SMP_L          1   \n",
       "16847990  720575940622010373  720575940634459290    VES_R          2   \n",
       "16847991  720575940624054792  720575940634431935    ICL_L          5   \n",
       "16847992  720575940615769750  720575940622822680   AVLP_L          1   \n",
       "16847994  720575940637397309  720575940633255123    SLP_R          2   \n",
       "\n",
       "          gaba_avg   ach_avg  glut_avg       oct_avg   ser_avg    da_avg  \\\n",
       "0         0.654330  0.023704  0.272418  4.812546e-02  0.000472  0.000951   \n",
       "1         0.386517  0.024020  0.580512  8.166312e-04  0.000857  0.007278   \n",
       "2         0.001719  0.979256  0.001811  1.633383e-05  0.005870  0.011328   \n",
       "3         0.011815  0.031954  0.472987  9.134340e-03  0.086973  0.387136   \n",
       "4         0.994271  0.005063  0.000522  3.998458e-07  0.000103  0.000040   \n",
       "...            ...       ...       ...           ...       ...       ...   \n",
       "16847984  0.007995  0.983840  0.000792  9.907485e-04  0.000257  0.006124   \n",
       "16847990  0.446577  0.407034  0.084707  1.664534e-03  0.007724  0.052293   \n",
       "16847991  0.012248  0.916746  0.017556  2.496850e-02  0.001025  0.027456   \n",
       "16847992  0.004619  0.896132  0.032063  1.844075e-03  0.028945  0.036396   \n",
       "16847994  0.987325  0.008161  0.004205  8.760364e-06  0.000020  0.000281   \n",
       "\n",
       "         pre_type pre_side post_type post_side  pre_type_side post_type_side  \n",
       "0          PLP017    right    CB3488     right   PLP017_right   CB3488_right  \n",
       "1         LHPV6p1    right   AVLP314     right  LHPV6p1_right  AVLP314_right  \n",
       "2          CB0960     left    CB0710     right    CB0960_left   CB0710_right  \n",
       "3          CB0960     left    CB2317      left    CB0960_left    CB2317_left  \n",
       "4          LAL138     left    CB2018     right    LAL138_left   CB2018_right  \n",
       "...           ...      ...       ...       ...            ...            ...  \n",
       "16847984   CB1744    right    SLP134      left   CB1744_right    SLP134_left  \n",
       "16847990    DNg55   center   DNb08_a     right   DNg55_center  DNb08_a_right  \n",
       "16847991  PVLP012     left   PVLP070      left   PVLP012_left   PVLP070_left  \n",
       "16847992  PVLP007     left   AVLP089      left   PVLP007_left   AVLP089_left  \n",
       "16847994   CB2036    right    CB1594     right   CB2036_right   CB1594_right  \n",
       "\n",
       "[8188016 rows x 16 columns]"
      ]
     },
     "execution_count": 16,
     "metadata": {},
     "output_type": "execute_result"
    }
   ],
   "source": [
    "# filter for the connectivity between components of the central brain\n",
    "conn = conn[conn.pre_pt_root_id.isin(cb.root_id) & conn.post_pt_root_id.isin(cb.root_id)]\n",
    "\n",
    "# add meta information\n",
    "conn['pre_type'] = conn.pre_pt_root_id.map(typedict)\n",
    "conn['pre_side'] = conn.pre_pt_root_id.map(sidedict)\n",
    "conn['post_type'] = conn.post_pt_root_id.map(typedict)\n",
    "conn['post_side'] = conn.post_pt_root_id.map(sidedict)\n",
    "\n",
    "# and put type and side info into one column\n",
    "# this separates the neurons of the same type from different sides, and\n",
    "# keeps the possibility of looking at circuits where the side of the neuron makes a difference\n",
    "conn['pre_type_side'] = conn.pre_type +'_'+ conn.pre_side\n",
    "conn['post_type_side'] = conn.post_type +'_'+ conn.post_side\n",
    "conn"
   ]
  },
  {
   "cell_type": "code",
   "execution_count": 17,
   "id": "5082bfb7-760b-4393-808d-4e94b379f02a",
   "metadata": {},
   "outputs": [
    {
     "data": {
      "text/plain": [
       "17807"
      ]
     },
     "execution_count": 17,
     "metadata": {},
     "output_type": "execute_result"
    }
   ],
   "source": [
    "root_typeside_dict = dict(zip(conn.pre_pt_root_id, conn.pre_type_side))\n",
    "root_typeside_dict.update(dict(zip(conn.post_pt_root_id, conn.post_type_side)))\n",
    "\n",
    "type_typeside_dict = dict(zip(conn.pre_type_side, conn.pre_type))\n",
    "type_typeside_dict.update(dict(zip(conn.post_type_side, conn.post_type)))\n",
    "\n",
    "typeside_side_dict = dict(zip(conn.pre_type_side, conn.pre_side))\n",
    "typeside_side_dict.update(dict(zip(conn.post_type_side, conn.post_side)))\n",
    "len(type_typeside_dict)"
   ]
  },
  {
   "cell_type": "code",
   "execution_count": 18,
   "id": "92948f96-3a6e-4e97-92c8-aad0264414ef",
   "metadata": {
    "id": "92948f96-3a6e-4e97-92c8-aad0264414ef"
   },
   "outputs": [
    {
     "data": {
      "text/html": [
       "<div>\n",
       "<style scoped>\n",
       "    .dataframe tbody tr th:only-of-type {\n",
       "        vertical-align: middle;\n",
       "    }\n",
       "\n",
       "    .dataframe tbody tr th {\n",
       "        vertical-align: top;\n",
       "    }\n",
       "\n",
       "    .dataframe thead th {\n",
       "        text-align: right;\n",
       "    }\n",
       "</style>\n",
       "<table border=\"1\" class=\"dataframe\">\n",
       "  <thead>\n",
       "    <tr style=\"text-align: right;\">\n",
       "      <th></th>\n",
       "      <th>pre_type_side</th>\n",
       "      <th>post_type_side</th>\n",
       "      <th>pre_type</th>\n",
       "      <th>post_type</th>\n",
       "      <th>syn_count</th>\n",
       "    </tr>\n",
       "  </thead>\n",
       "  <tbody>\n",
       "    <tr>\n",
       "      <th>0</th>\n",
       "      <td>(AVLP346,AVLP348)a_left</td>\n",
       "      <td>(AVLP346,AVLP348)a_left</td>\n",
       "      <td>(AVLP346,AVLP348)a</td>\n",
       "      <td>(AVLP346,AVLP348)a</td>\n",
       "      <td>3</td>\n",
       "    </tr>\n",
       "    <tr>\n",
       "      <th>1</th>\n",
       "      <td>(AVLP346,AVLP348)a_left</td>\n",
       "      <td>(AVLP346,AVLP348)b_left</td>\n",
       "      <td>(AVLP346,AVLP348)a</td>\n",
       "      <td>(AVLP346,AVLP348)b</td>\n",
       "      <td>21</td>\n",
       "    </tr>\n",
       "    <tr>\n",
       "      <th>2</th>\n",
       "      <td>(AVLP346,AVLP348)a_left</td>\n",
       "      <td>5-HTPLP01_left</td>\n",
       "      <td>(AVLP346,AVLP348)a</td>\n",
       "      <td>5-HTPLP01</td>\n",
       "      <td>4</td>\n",
       "    </tr>\n",
       "    <tr>\n",
       "      <th>3</th>\n",
       "      <td>(AVLP346,AVLP348)a_left</td>\n",
       "      <td>720575940621603755_left</td>\n",
       "      <td>(AVLP346,AVLP348)a</td>\n",
       "      <td>720575940621603755</td>\n",
       "      <td>6</td>\n",
       "    </tr>\n",
       "    <tr>\n",
       "      <th>4</th>\n",
       "      <td>(AVLP346,AVLP348)a_left</td>\n",
       "      <td>720575940623171308_left</td>\n",
       "      <td>(AVLP346,AVLP348)a</td>\n",
       "      <td>720575940623171308</td>\n",
       "      <td>1</td>\n",
       "    </tr>\n",
       "    <tr>\n",
       "      <th>...</th>\n",
       "      <td>...</td>\n",
       "      <td>...</td>\n",
       "      <td>...</td>\n",
       "      <td>...</td>\n",
       "      <td>...</td>\n",
       "    </tr>\n",
       "    <tr>\n",
       "      <th>3328174</th>\n",
       "      <td>vpoEN_right</td>\n",
       "      <td>pC1d_left</td>\n",
       "      <td>vpoEN</td>\n",
       "      <td>pC1d</td>\n",
       "      <td>4</td>\n",
       "    </tr>\n",
       "    <tr>\n",
       "      <th>3328175</th>\n",
       "      <td>vpoEN_right</td>\n",
       "      <td>pC1d_right</td>\n",
       "      <td>vpoEN</td>\n",
       "      <td>pC1d</td>\n",
       "      <td>41</td>\n",
       "    </tr>\n",
       "    <tr>\n",
       "      <th>3328176</th>\n",
       "      <td>vpoEN_right</td>\n",
       "      <td>pC1e_right</td>\n",
       "      <td>vpoEN</td>\n",
       "      <td>pC1e</td>\n",
       "      <td>4</td>\n",
       "    </tr>\n",
       "    <tr>\n",
       "      <th>3328177</th>\n",
       "      <td>vpoEN_right</td>\n",
       "      <td>vpoEN_left</td>\n",
       "      <td>vpoEN</td>\n",
       "      <td>vpoEN</td>\n",
       "      <td>2</td>\n",
       "    </tr>\n",
       "    <tr>\n",
       "      <th>3328178</th>\n",
       "      <td>vpoEN_right</td>\n",
       "      <td>vpoEN_right</td>\n",
       "      <td>vpoEN</td>\n",
       "      <td>vpoEN</td>\n",
       "      <td>3</td>\n",
       "    </tr>\n",
       "  </tbody>\n",
       "</table>\n",
       "<p>3328179 rows × 5 columns</p>\n",
       "</div>"
      ],
      "text/plain": [
       "                   pre_type_side           post_type_side            pre_type  \\\n",
       "0        (AVLP346,AVLP348)a_left  (AVLP346,AVLP348)a_left  (AVLP346,AVLP348)a   \n",
       "1        (AVLP346,AVLP348)a_left  (AVLP346,AVLP348)b_left  (AVLP346,AVLP348)a   \n",
       "2        (AVLP346,AVLP348)a_left           5-HTPLP01_left  (AVLP346,AVLP348)a   \n",
       "3        (AVLP346,AVLP348)a_left  720575940621603755_left  (AVLP346,AVLP348)a   \n",
       "4        (AVLP346,AVLP348)a_left  720575940623171308_left  (AVLP346,AVLP348)a   \n",
       "...                          ...                      ...                 ...   \n",
       "3328174              vpoEN_right                pC1d_left               vpoEN   \n",
       "3328175              vpoEN_right               pC1d_right               vpoEN   \n",
       "3328176              vpoEN_right               pC1e_right               vpoEN   \n",
       "3328177              vpoEN_right               vpoEN_left               vpoEN   \n",
       "3328178              vpoEN_right              vpoEN_right               vpoEN   \n",
       "\n",
       "                  post_type  syn_count  \n",
       "0        (AVLP346,AVLP348)a          3  \n",
       "1        (AVLP346,AVLP348)b         21  \n",
       "2                 5-HTPLP01          4  \n",
       "3        720575940621603755          6  \n",
       "4        720575940623171308          1  \n",
       "...                     ...        ...  \n",
       "3328174                pC1d          4  \n",
       "3328175                pC1d         41  \n",
       "3328176                pC1e          4  \n",
       "3328177               vpoEN          2  \n",
       "3328178               vpoEN          3  \n",
       "\n",
       "[3328179 rows x 5 columns]"
      ]
     },
     "execution_count": 18,
     "metadata": {},
     "output_type": "execute_result"
    }
   ],
   "source": [
    "# sum the number of synapses across neuropils and root_ids of the same type and side\n",
    "conntt = conn.groupby(['pre_type_side', 'post_type_side', 'pre_type',\n",
    "                      'post_type'])['syn_count'].sum().reset_index()\n",
    "conntt"
   ]
  },
  {
   "cell_type": "code",
   "execution_count": 19,
   "id": "09d973e2-8b7d-457e-8be0-4bad31acd812",
   "metadata": {
    "id": "09d973e2-8b7d-457e-8be0-4bad31acd812"
   },
   "outputs": [
    {
     "name": "stdout",
     "output_type": "stream",
     "text": [
      "Total number of unique ids:  50338\n",
      "Total number of unique types (including where root_ids are used as a type):  9646\n",
      "Total number of unique type_sides:  17758\n"
     ]
    }
   ],
   "source": [
    "# how many neurons are there roughly?\n",
    "print('Total number of unique ids: ', len(set(conn.pre_pt_root_id)))\n",
    "print('Total number of unique types (including where root_ids are used as a type): ', len(set(cb.combined_type)))\n",
    "print('Total number of unique type_sides: ', len(set(conn.pre_type_side)))"
   ]
  },
  {
   "cell_type": "code",
   "execution_count": 20,
   "id": "b338a07c-5ec2-40f5-a316-1cb6e8769c2f",
   "metadata": {
    "id": "b338a07c-5ec2-40f5-a316-1cb6e8769c2f"
   },
   "outputs": [
    {
     "data": {
      "text/plain": [
       "2.522772512"
      ]
     },
     "execution_count": 20,
     "metadata": {},
     "output_type": "execute_result"
    }
   ],
   "source": [
    "# the amount of memory it would take for a dense matrix in Gb\n",
    "# number of integers * 64 bit integers / 8 bits per byte / 1e9 bytes per Gb\n",
    "(len(set(conn.pre_type_side))**2)*64/8/1e9"
   ]
  },
  {
   "cell_type": "markdown",
   "id": "8356e3cb-4d61-46ca-ae6e-6396881ff693",
   "metadata": {
    "id": "8356e3cb-4d61-46ca-ae6e-6396881ff693"
   },
   "source": [
    "- COO Matrix (Coordinate format):\n",
    "1. In COO format, a sparse matrix is represented by three arrays: row indices, column indices, and the values themselves.  \n",
    "2. This format is ideal for constructing sparse matrices when you have the coordinates of the non-zero elements (like from an edge list).  \n",
    "3. It's efficient for matrix construction but not for matrix operations (like multiplication or indexing).  \n",
    "\n",
    "- CSC Matrix (Compressed Sparse Column format):\n",
    "1. In CSC format, the matrix is represented by column pointers, row indices, and the non-zero values.  \n",
    "2. This format is efficient for arithmetic operations, column slicing, and matrix-vector products.  \n",
    "3. However, constructing a CSC matrix directly from an edge list isn't as straightforward as with a COO matrix."
   ]
  },
  {
   "cell_type": "code",
   "execution_count": 21,
   "id": "5305afe7-7348-44e8-8856-ae496da74480",
   "metadata": {
    "id": "5305afe7-7348-44e8-8856-ae496da74480"
   },
   "outputs": [
    {
     "data": {
      "text/plain": [
       "40.009376"
      ]
     },
     "execution_count": 21,
     "metadata": {},
     "output_type": "execute_result"
    }
   ],
   "source": [
    "# instead of making a dense matrix based on the edgelist above, let's make a sparse one from the edgelist directly\n",
    "# first make a coo matrix\n",
    "nodes = set(conntt.pre_type_side).union(set(conntt.post_type_side))\n",
    "sorted_nodes = sorted(nodes)  # Convert the set to a sorted list\n",
    "nodes_to_idx = {node:num for num, node in enumerate(sorted_nodes)}\n",
    "\n",
    "# type to type connectivity\n",
    "conntt['pre_idx'] = conntt['pre_type_side'].map(nodes_to_idx)\n",
    "conntt['post_idx'] = conntt['post_type_side'].map(nodes_to_idx)\n",
    "\n",
    "# Create COO matrix\n",
    "row = conntt['pre_idx'].values\n",
    "col = conntt['post_idx'].values\n",
    "data = conntt['syn_count'].values\n",
    "matrix_size = len(nodes)\n",
    "coo = coo_matrix((data, (row, col)), shape=(matrix_size, matrix_size))\n",
    "\n",
    "# then turn it into csc matrix\n",
    "csc = coo.tocsc()\n",
    "\n",
    "csc_size = csc.data.nbytes  # Size of the data array\n",
    "csc_size += csc.indices.nbytes  # Size of the indices array\n",
    "csc_size += csc.indptr.nbytes  # Size of the index pointer array\n",
    "# number of MB\n",
    "csc_size/1e6"
   ]
  },
  {
   "cell_type": "code",
   "execution_count": 22,
   "id": "cb689197-0647-4f84-a824-eee931c9ce78",
   "metadata": {
    "id": "cb689197-0647-4f84-a824-eee931c9ce78"
   },
   "outputs": [
    {
     "data": {
      "text/plain": [
       "(17806, 17806)"
      ]
     },
     "execution_count": 22,
     "metadata": {},
     "output_type": "execute_result"
    }
   ],
   "source": [
    "csc.shape"
   ]
  },
  {
   "cell_type": "code",
   "execution_count": 23,
   "id": "68c70e25-6aad-4856-a98a-7a59e0790725",
   "metadata": {
    "id": "68c70e25-6aad-4856-a98a-7a59e0790725"
   },
   "outputs": [
    {
     "data": {
      "text/plain": [
       "<17806x17806 sparse matrix of type '<class 'numpy.int64'>'\n",
       "\twith 3328179 stored elements in Compressed Sparse Column format>"
      ]
     },
     "execution_count": 23,
     "metadata": {},
     "output_type": "execute_result"
    }
   ],
   "source": [
    "csc"
   ]
  },
  {
   "cell_type": "code",
   "execution_count": 24,
   "id": "ef6f70d5-b4d6-45e3-b9c6-dad16ca06d58",
   "metadata": {
    "id": "ef6f70d5-b4d6-45e3-b9c6-dad16ca06d58"
   },
   "outputs": [],
   "source": [
    "col_sums = csc.sum(axis=0)\n",
    "# Handling division by zero in case some columns have a sum of zero\n",
    "# that is, where a neuron doesn't have incoming synapses\n",
    "# .A turns it from a sparse matrix into a dense np array\n",
    "col_sums_with_inversion = np.reciprocal(col_sums.A.squeeze().astype(float), where=col_sums.A.squeeze() != 0)\n",
    "# Multiply each column by the inverse of its sum\n",
    "inprop = csc.multiply(col_sums_with_inversion)\n",
    "# and then reduce the precision to float32 to save memory\n",
    "inprop = inprop.astype(np.float32)"
   ]
  },
  {
   "cell_type": "code",
   "execution_count": 25,
   "id": "aee14948-633e-4aa5-805b-1500d6d11998",
   "metadata": {
    "id": "aee14948-633e-4aa5-805b-1500d6d11998"
   },
   "outputs": [],
   "source": [
    "sp.sparse.save_npz('data/adult_type_inprop.npz', inprop)"
   ]
  },
  {
   "cell_type": "markdown",
   "id": "706e0cfc-89fc-43d1-b886-29bb0656316a",
   "metadata": {},
   "source": [
    "# NT"
   ]
  },
  {
   "cell_type": "code",
   "execution_count": 26,
   "id": "512a1ab9-ad56-464a-a49a-f3d8e77f2485",
   "metadata": {},
   "outputs": [
    {
     "data": {
      "text/plain": [
       "top_nt\n",
       "acetylcholine    28338\n",
       "glutamate         8759\n",
       "dopamine          5850\n",
       "gaba              5643\n",
       "serotonin         1773\n",
       "NaN                146\n",
       "octopamine          92\n",
       "Name: count, dtype: int64"
      ]
     },
     "execution_count": 26,
     "metadata": {},
     "output_type": "execute_result"
    }
   ],
   "source": [
    "cb.top_nt.value_counts(dropna = False)"
   ]
  },
  {
   "cell_type": "code",
   "execution_count": 27,
   "id": "7b660d5d-6fb9-413b-84c9-004138722fe0",
   "metadata": {},
   "outputs": [
    {
     "data": {
      "text/plain": [
       "(array([8.999e+03, 5.600e+02, 0.000e+00, 5.600e+01, 0.000e+00, 2.100e+01,\n",
       "        3.000e+00, 0.000e+00, 6.000e+00, 1.000e+00]),\n",
       " array([1. , 1.6, 2.2, 2.8, 3.4, 4. , 4.6, 5.2, 5.8, 6.4, 7. ]),\n",
       " <BarContainer object of 10 artists>)"
      ]
     },
     "execution_count": 27,
     "metadata": {},
     "output_type": "execute_result"
    },
    {
     "data": {
      "image/png": "[encoded data removed]",
      "text/plain": [
       "<Figure size 640x480 with 1 Axes>"
      ]
     },
     "metadata": {},
     "output_type": "display_data"
    }
   ],
   "source": [
    "# first check consistency of NT within each type \n",
    "cb['top_nt'] = cb['top_nt'].fillna('unknown')\n",
    "nt_count_per_type = cb.groupby('combined_type')['top_nt'].nunique()\n",
    "plt.hist(nt_count_per_type)"
   ]
  },
  {
   "cell_type": "code",
   "execution_count": 28,
   "id": "14368e18-6bd9-4fea-add4-6ace658e69f6",
   "metadata": {},
   "outputs": [
    {
     "data": {
      "text/plain": [
       "239"
      ]
     },
     "execution_count": 28,
     "metadata": {},
     "output_type": "execute_result"
    }
   ],
   "source": [
    "# For those with different NT for each neuron, get the majority NT for each type\n",
    "nt_conflict_types = nt_count_per_type[nt_count_per_type > 1].index\n",
    "\n",
    "# Getting counts of top_nt for each combined_type\n",
    "nt_conflict_type_counts = cb[cb.combined_type.isin(nt_conflict_types)].groupby(['combined_type', 'top_nt']).size()\n",
    "\n",
    "# Convert the series to a DataFrame and reset index\n",
    "nt_conflict_type_counts = nt_conflict_type_counts.reset_index(name='counts')\n",
    "\n",
    "# Sort by combined_type and counts in descending order\n",
    "nt_conflict_type_counts.sort_values(by=['combined_type', 'counts'], ascending=[True, False], inplace=True)\n",
    "\n",
    "# Initialize dictionary with existing type-nt matching\n",
    "type_nt = dict(zip(cb.combined_type, cb.top_nt))\n",
    "# Initialize a list to keep track of types with equal top_nt counts\n",
    "types_with_equal_top_nt_counts = []\n",
    "\n",
    "# Custom function to handle ties, random selection, and record keeping\n",
    "def select_random_nt_and_record_ties(df):\n",
    "    max_count = df['counts'].max()\n",
    "    top_nts = df[df['counts'] == max_count]\n",
    "    if len(top_nts) > 1:  # If there are ties\n",
    "        types_with_equal_top_nt_counts.append(df['combined_type'].iloc[0])  # Record the type with ties\n",
    "        random_nt = np.random.choice(top_nts['top_nt'].values)\n",
    "        while random_nt == 'unknown': \n",
    "            random_nt = np.random.choice(top_nts['top_nt'].values)\n",
    "        return random_nt  # Random selection among ties\n",
    "    else:\n",
    "        return top_nts['top_nt'].values[0]\n",
    "\n",
    "# Loop through each type to get the top_nt, handling ties appropriately\n",
    "for atype in nt_conflict_types:\n",
    "    type_df = nt_conflict_type_counts[nt_conflict_type_counts['combined_type'] == atype]\n",
    "    top_nt = select_random_nt_and_record_ties(type_df)\n",
    "    type_nt[atype] = top_nt\n",
    "\n",
    "len(types_with_equal_top_nt_counts)"
   ]
  },
  {
   "cell_type": "code",
   "execution_count": 29,
   "id": "3c120eed-3686-4194-9335-add40327ed51",
   "metadata": {},
   "outputs": [
    {
     "data": {
      "text/plain": [
       "['720575940638707901',\n",
       " 'DNge061',\n",
       " '720575940612376690',\n",
       " 'ITP',\n",
       " '720575940626896145',\n",
       " '720575940622611917',\n",
       " '720575940624156391',\n",
       " '720575940632738259',\n",
       " '720575940621636988',\n",
       " '720575940610239608',\n",
       " '720575940623382711',\n",
       " '720575940612269283',\n",
       " 'AN_GNG_204',\n",
       " 'AN_GNG_124',\n",
       " '720575940614957115',\n",
       " '720575940626216720',\n",
       " '720575940621463699',\n",
       " '720575940606375772',\n",
       " '720575940610183154',\n",
       " '720575940617816661',\n",
       " '720575940635901274',\n",
       " '720575940612137895',\n",
       " '720575940621568490',\n",
       " '720575940619617919',\n",
       " '720575940628335611',\n",
       " '720575940633705560',\n",
       " '720575940637470627',\n",
       " '720575940639152117',\n",
       " '720575940638909429',\n",
       " '720575940614736699',\n",
       " '720575940611937967',\n",
       " '720575940613684274',\n",
       " '720575940625771780',\n",
       " '720575940619904380',\n",
       " '720575940630846125',\n",
       " '720575940624211202',\n",
       " '720575940611477229',\n",
       " '720575940628628055',\n",
       " '720575940618759078',\n",
       " '720575940629273130',\n",
       " '720575940618109460',\n",
       " '720575940611810001',\n",
       " '720575940628268226',\n",
       " '720575940620287820',\n",
       " '720575940623758669',\n",
       " '720575940615072662',\n",
       " '720575940625760816',\n",
       " '720575940612070769',\n",
       " '720575940618062365',\n",
       " '720575940610241860',\n",
       " '720575940638619214']"
      ]
     },
     "execution_count": 29,
     "metadata": {},
     "output_type": "execute_result"
    }
   ],
   "source": [
    "# the types without any known nt \n",
    "[atype for atype, nt in type_nt.items() if nt == 'unknown']"
   ]
  },
  {
   "cell_type": "code",
   "execution_count": 30,
   "id": "c79bb6ed-3748-419f-9c76-7e57891e91d7",
   "metadata": {},
   "outputs": [],
   "source": [
    "# for now regarding everything (ACh, Glu, GABA, Dopamine, Serotonine, ??) except for Glu and GABA to be excitatory\n",
    "# first make a dictionary \n",
    "nt_value = {'acetylcholine': 1, \n",
    "           'glutamate': -1, \n",
    "           'gaba': -1, \n",
    "           'dopamine': 1, \n",
    "           'serotonin': 1, \n",
    "           'octopamine': 1, \n",
    "           'unknown': 1}\n",
    "\n",
    "# type_sign = pd.DataFrame(type_nt.items(), columns = ['cell_type','nt'])\n",
    "# type_sign['sign'] = type_sign.nt.map(nt_value)\n",
    "# type_sign.to_csv('data/adult_nt.csv')"
   ]
  },
  {
   "cell_type": "markdown",
   "id": "58265281",
   "metadata": {},
   "source": [
    "# saving meta"
   ]
  },
  {
   "cell_type": "code",
   "execution_count": 31,
   "id": "d112405e-bf4b-4b62-a3e5-46470a24b382",
   "metadata": {},
   "outputs": [],
   "source": [
    "# save to csv, one row is one neuron \n",
    "meta = pd.DataFrame(root_typeside_dict.items(), columns = ['root_id','cell_type_side'])\n",
    "# indices are still according to type_side \n",
    "meta['idx'] = meta.cell_type_side.map(nodes_to_idx)\n",
    "meta['cell_type'] = meta.cell_type_side.map(type_typeside_dict)\n",
    "meta['super_class'] = meta.cell_type.map(type_super_class_dict)\n",
    "meta['cell_class'] = meta.cell_type.map(type_class_dict)\n",
    "meta['cell_sub_class'] = meta.cell_type.map(type_sub_class_dict)\n",
    "meta['nt'] = meta.cell_type.map(type_nt)\n",
    "meta['sign'] = meta.nt.map(nt_value)\n",
    "meta['side'] = meta.root_id.map(sidedict)\n",
    "meta.to_csv('data/adult_meta.csv')"
   ]
  },
  {
   "cell_type": "code",
   "execution_count": 32,
   "id": "f617e529-919e-4efb-9c9b-8dcf17a25f75",
   "metadata": {},
   "outputs": [],
   "source": [
    "# save the meta data as a csv, one row is one type_side  \n",
    "meta = pd.DataFrame(nodes_to_idx.items(), columns=['cell_type_side','idx'])\n",
    "meta['cell_type'] = meta.cell_type_side.map(type_typeside_dict)\n",
    "meta['super_class'] = meta.cell_type.map(type_super_class_dict)\n",
    "meta['cell_class'] = meta.cell_type.map(type_class_dict)\n",
    "meta['cell_sub_class'] = meta.cell_type.map(type_sub_class_dict)\n",
    "meta['nt'] = meta.cell_type.map(type_nt)\n",
    "meta['sign'] = meta.nt.map(nt_value)\n",
    "meta['side'] = meta.cell_type_side.map(typeside_side_dict)\n",
    "meta.to_csv('data/adult_type_meta.csv')"
   ]
  },
  {
   "cell_type": "markdown",
   "id": "acda0743-b35f-43dc-8d81-6fc437253f7b",
   "metadata": {
    "id": "acda0743-b35f-43dc-8d81-6fc437253f7b"
   },
   "source": [
    "# int64 vs. int32"
   ]
  },
  {
   "cell_type": "code",
   "execution_count": null,
   "id": "37d21aef-555b-4801-a287-ca9a890a59f9",
   "metadata": {
    "id": "37d21aef-555b-4801-a287-ca9a890a59f9"
   },
   "outputs": [],
   "source": [
    "# sensitivity analysis - does int32/16 matter?\n",
    "import numpy as np\n",
    "from scipy.sparse import random as sparse_random, csc_matrix\n",
    "\n",
    "# Example matrix size\n",
    "n = 100\n",
    "\n",
    "# Generate a random sparse matrix (for demonstration purposes)\n",
    "rng = np.random.default_rng()\n",
    "matrix_float64 = sparse_random(n, n, density=0.1, format='csc', data_rvs=rng.random).astype(np.float64)\n",
    "matrix_float32 = matrix_float64.astype(np.float32)\n",
    "matrix_float16 = matrix_float64.astype(np.float16)\n",
    "\n",
    "# Function to perform a series of matrix multiplications\n",
    "def multiply_matrix(matrix, steps):\n",
    "    result = matrix\n",
    "    for _ in range(steps):\n",
    "        result = result @ matrix\n",
    "    return result\n",
    "\n",
    "# Perform the operations\n",
    "steps = 5\n",
    "result_64 = multiply_matrix(matrix_float64, steps)\n",
    "result_32 = multiply_matrix(matrix_float32, steps)\n",
    "result_16 = multiply_matrix(matrix_float16, steps)\n",
    "\n",
    "# Compare the results\n",
    "diff_64_32 = np.abs(result_64 - result_32.astype(np.float64))\n",
    "diff_64_16 = np.abs(result_64 - result_16.astype(np.float64))\n",
    "\n",
    "# Print maximum differences\n",
    "print(f\"Max difference between float64 and float32: {diff_64_32.max()}\")\n",
    "print(f\"Max difference between float64 and float16: {diff_64_16.max()}\")"
   ]
  },
  {
   "cell_type": "markdown",
   "id": "333ed49a-ae1a-44fe-92b6-bc2538fde441",
   "metadata": {
    "id": "333ed49a-ae1a-44fe-92b6-bc2538fde441"
   },
   "source": [
    "So we need float32."
   ]
  },
  {
   "cell_type": "markdown",
   "id": "62159299-c9fe-4d4f-91a2-17c21e9b1252",
   "metadata": {
    "id": "62159299-c9fe-4d4f-91a2-17c21e9b1252"
   },
   "source": [
    "# parallelising vs. not"
   ]
  },
  {
   "cell_type": "code",
   "execution_count": null,
   "id": "97802eb0-c7e5-436b-b0ea-b8703b128826",
   "metadata": {
    "id": "97802eb0-c7e5-436b-b0ea-b8703b128826"
   },
   "outputs": [],
   "source": [
    "import multiprocessing\n",
    "import time\n",
    "\n",
    "import numpy as np"
   ]
  },
  {
   "cell_type": "code",
   "execution_count": null,
   "id": "de559fb8-7344-4ed5-86e4-dcdb2df59064",
   "metadata": {
    "id": "de559fb8-7344-4ed5-86e4-dcdb2df59064"
   },
   "outputs": [],
   "source": [
    "num_cores = multiprocessing.cpu_count()"
   ]
  },
  {
   "cell_type": "code",
   "execution_count": null,
   "id": "948c2156-5efe-4816-88c7-abb5637dbfa1",
   "metadata": {
    "id": "948c2156-5efe-4816-88c7-abb5637dbfa1"
   },
   "outputs": [],
   "source": [
    "# Define the matrix multiplication function\n",
    "def matrix_multiply(args):\n",
    "    A, B = args\n",
    "    return np.dot(A, B)"
   ]
  },
  {
   "cell_type": "code",
   "execution_count": null,
   "id": "ec099612-e964-4f02-85d3-1f79ffff04a6",
   "metadata": {
    "id": "ec099612-e964-4f02-85d3-1f79ffff04a6"
   },
   "outputs": [],
   "source": [
    "# Create two random matrices of size 1000x1000\n",
    "A = np.random.rand(1000, 1000)\n",
    "B = np.random.rand(1000, 1000)\n",
    "\n",
    "# Split the matrices into 4 parts\n",
    "A_parts = np.array_split(A, 4, axis=1)\n",
    "B_parts = np.array_split(B, 4)"
   ]
  },
  {
   "cell_type": "code",
   "execution_count": null,
   "id": "3d8b3acd-a55e-4f4a-9f6b-e0335f2f5ed9",
   "metadata": {
    "id": "3d8b3acd-a55e-4f4a-9f6b-e0335f2f5ed9"
   },
   "outputs": [],
   "source": [
    "from concurrent.futures import ProcessPoolExecutor\n"
   ]
  },
  {
   "cell_type": "code",
   "execution_count": null,
   "id": "d23db9b6-9f59-4c0b-afd4-610bc71ab0bc",
   "metadata": {
    "id": "d23db9b6-9f59-4c0b-afd4-610bc71ab0bc",
    "outputId": "0b742fd0-3d38-478c-e1a5-694cdd3a789e"
   },
   "outputs": [],
   "source": [
    "start = time.time()\n",
    "\n",
    "# # Map the matrix multiplication function to the 4 parts of the matrices\n",
    "# C_parts = pool.map(matrix_multiply,\n",
    "#                    [(A_part, B_part) for A_part, B_part in zip(A_parts, B_parts)])\n",
    "with ProcessPoolExecutor() as executor:\n",
    "    futures = [executor.submit(matrix_multiply, A_part, B_part) for A_part, B_part in zip(A_parts, B_parts)]\n",
    "    C_parts = [f.result() for f in futures]\n",
    "\n",
    "# Concatenate the parts of the result matrix\n",
    "C = np.concatenate(C_parts, axis=1)\n",
    "\n",
    "end = time.time()\n",
    "print(end - start)"
   ]
  }
 ],
 "metadata": {
  "accelerator": "GPU",
  "colab": {
   "gpuType": "T4",
   "provenance": [],
   "toc_visible": true
  },
  "kernelspec": {
   "display_name": "Python 3 (ipykernel)",
   "language": "python",
   "name": "python3"
  },
  "language_info": {
   "codemirror_mode": {
    "name": "ipython",
    "version": 3
   },
   "file_extension": ".py",
   "mimetype": "text/x-python",
   "name": "python",
   "nbconvert_exporter": "python",
   "pygments_lexer": "ipython3",
   "version": "3.11.5"
  }
 },
 "nbformat": 4,
 "nbformat_minor": 5
}
