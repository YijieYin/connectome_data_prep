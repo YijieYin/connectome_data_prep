{
 "cells": [
  {
   "cell_type": "markdown",
   "metadata": {},
   "source": [
    "Calculate inprop for optic lobe neurons on the right hemisphere of FAFB on a signle neuron level. Cell classes of 'optic', 'visual_projection', and 'visual_centrifugal' are kept. "
   ]
  },
  {
   "cell_type": "code",
   "execution_count": 1,
   "metadata": {},
   "outputs": [],
   "source": [
    "import pandas as pd\n",
    "import numpy as np\n",
    "from scipy.sparse import coo_matrix\n",
    "import scipy as sp\n",
    "import matplotlib.pyplot as plt"
   ]
  },
  {
   "cell_type": "markdown",
   "metadata": {},
   "source": [
    "# reading data"
   ]
  },
  {
   "cell_type": "code",
   "execution_count": 2,
   "metadata": {},
   "outputs": [
    {
     "name": "stderr",
     "output_type": "stream",
     "text": [
      "C:\\Users\\44745\\AppData\\Local\\Temp\\ipykernel_61764\\649695127.py:1: DtypeWarning: Columns (14,15,16,17,23) have mixed types. Specify dtype option on import or set low_memory=False.\n",
      "  info = pd.read_csv('https://raw.githubusercontent.com/flyconnectome/flywire_annotations/main/supplemental_files/Supplemental_file1_neuron_annotations.tsv',\n"
     ]
    },
    {
     "data": {
      "text/plain": [
       "Index(['supervoxel_id', 'root_id', 'pos_x', 'pos_y', 'pos_z', 'soma_x',\n",
       "       'soma_y', 'soma_z', 'nucleus_id', 'flow', 'super_class', 'cell_class',\n",
       "       'cell_sub_class', 'cell_type', 'hemibrain_type', 'ito_lee_hemilineage',\n",
       "       'hartenstein_hemilineage', 'morphology_group', 'top_nt', 'top_nt_conf',\n",
       "       'known_nt', 'known_nt_source', 'side', 'nerve', 'vfb_id', 'fbbt_id',\n",
       "       'status'],\n",
       "      dtype='object')"
      ]
     },
     "execution_count": 2,
     "metadata": {},
     "output_type": "execute_result"
    }
   ],
   "source": [
    "info = pd.read_csv('https://raw.githubusercontent.com/flyconnectome/flywire_annotations/main/supplemental_files/Supplemental_file1_neuron_annotations.tsv',\n",
    "                   delimiter = '\\t')\n",
    "info.columns"
   ]
  },
  {
   "cell_type": "code",
   "execution_count": 3,
   "metadata": {},
   "outputs": [
    {
     "data": {
      "text/plain": [
       "super_class\n",
       "optic                 77536\n",
       "central               32388\n",
       "sensory               16903\n",
       "visual_projection      8053\n",
       "ascending              2362\n",
       "descending             1303\n",
       "visual_centrifugal      524\n",
       "motor                   106\n",
       "endocrine                80\n",
       "Name: count, dtype: int64"
      ]
     },
     "execution_count": 3,
     "metadata": {},
     "output_type": "execute_result"
    }
   ],
   "source": [
    "info.super_class.value_counts(dropna = False)"
   ]
  },
  {
   "cell_type": "code",
   "execution_count": 4,
   "metadata": {},
   "outputs": [],
   "source": [
    "optic = info[info.super_class.isin(\n",
    "    ['visual_projection', 'visual_centrifugal', 'optic'])]"
   ]
  },
  {
   "cell_type": "code",
   "execution_count": 5,
   "metadata": {},
   "outputs": [
    {
     "data": {
      "text/plain": [
       "cell_type  hemibrain_type\n",
       "False      True              72669\n",
       "True       True               6129\n",
       "           False              4039\n",
       "False      False              3276\n",
       "Name: count, dtype: int64"
      ]
     },
     "execution_count": 5,
     "metadata": {},
     "output_type": "execute_result"
    }
   ],
   "source": [
    "# where are the cell types? \n",
    "optic[['cell_type','hemibrain_type']].isna().value_counts()"
   ]
  },
  {
   "cell_type": "code",
   "execution_count": 6,
   "metadata": {},
   "outputs": [
    {
     "data": {
      "text/plain": [
       "cell_type  hemibrain_type             \n",
       "MeTu4      MC61,MC64                      278\n",
       "MeTu3      MC61,MC64                      274\n",
       "MeTu1      MC61,MC64                      244\n",
       "LLPC2      LLPC2a,LLPC2b,LLPC2c,LLPC2d    235\n",
       "LC10a      LC10                           234\n",
       "                                         ... \n",
       "MeLp1      5813068976                       2\n",
       "LCe01b     LC25                             1\n",
       "           LC25,LC26                        1\n",
       "LCe01a     LC25,LC26                        1\n",
       "LCe02      LC25                             1\n",
       "Name: count, Length: 209, dtype: int64"
      ]
     },
     "execution_count": 6,
     "metadata": {},
     "output_type": "execute_result"
    }
   ],
   "source": [
    "# around 3k with both cell_type and hemibrain_type - do they correspond to each other? \n",
    "optic[~optic.cell_type.isna() & ~optic.hemibrain_type.isna()][['cell_type','hemibrain_type']].value_counts()"
   ]
  },
  {
   "cell_type": "code",
   "execution_count": 7,
   "metadata": {},
   "outputs": [
    {
     "name": "stderr",
     "output_type": "stream",
     "text": [
      "C:\\Users\\44745\\AppData\\Local\\Temp\\ipykernel_61764\\2303128075.py:4: SettingWithCopyWarning: \n",
      "A value is trying to be set on a copy of a slice from a DataFrame\n",
      "\n",
      "See the caveats in the documentation: https://pandas.pydata.org/pandas-docs/stable/user_guide/indexing.html#returning-a-view-versus-a-copy\n",
      "  optic.combined_type.fillna(optic.hemibrain_type, inplace = True)\n",
      "C:\\Users\\44745\\AppData\\Local\\Temp\\ipykernel_61764\\2303128075.py:6: SettingWithCopyWarning: \n",
      "A value is trying to be set on a copy of a slice from a DataFrame\n",
      "\n",
      "See the caveats in the documentation: https://pandas.pydata.org/pandas-docs/stable/user_guide/indexing.html#returning-a-view-versus-a-copy\n",
      "  optic.combined_type.fillna(optic.root_id.astype(str), inplace = True)\n"
     ]
    }
   ],
   "source": [
    "# since hemibrain is truncated, let's prioritize cell_type\n",
    "optic.loc[:,['combined_type']] = optic.cell_type\n",
    "# fill the leftover nas with hemibrain_type \n",
    "optic.combined_type.fillna(optic.hemibrain_type, inplace = True)\n",
    "# then fill the rest with root ids \n",
    "optic.combined_type.fillna(optic.root_id.astype(str), inplace = True)"
   ]
  },
  {
   "cell_type": "code",
   "execution_count": 8,
   "metadata": {},
   "outputs": [],
   "source": [
    "# make dictionaries to map between columns \n",
    "typedict = dict(zip(optic.root_id, optic.combined_type))\n",
    "sidedict = dict(zip(optic.root_id, optic.side))\n",
    "type_super_class_dict = dict(zip(optic.combined_type, optic.super_class))\n",
    "type_class_dict = dict(zip(optic.combined_type, optic.cell_class)) \n",
    "type_sub_class_dict = dict(zip(optic.combined_type, optic.cell_sub_class))"
   ]
  },
  {
   "cell_type": "markdown",
   "metadata": {},
   "source": [
    "## read connectivity"
   ]
  },
  {
   "cell_type": "code",
   "execution_count": 9,
   "metadata": {},
   "outputs": [
    {
     "data": {
      "text/html": [
       "<div>\n",
       "<style scoped>\n",
       "    .dataframe tbody tr th:only-of-type {\n",
       "        vertical-align: middle;\n",
       "    }\n",
       "\n",
       "    .dataframe tbody tr th {\n",
       "        vertical-align: top;\n",
       "    }\n",
       "\n",
       "    .dataframe thead th {\n",
       "        text-align: right;\n",
       "    }\n",
       "</style>\n",
       "<table border=\"1\" class=\"dataframe\">\n",
       "  <thead>\n",
       "    <tr style=\"text-align: right;\">\n",
       "      <th></th>\n",
       "      <th>pre_pt_root_id</th>\n",
       "      <th>post_pt_root_id</th>\n",
       "      <th>neuropil</th>\n",
       "      <th>syn_count</th>\n",
       "      <th>gaba_avg</th>\n",
       "      <th>ach_avg</th>\n",
       "      <th>glut_avg</th>\n",
       "      <th>oct_avg</th>\n",
       "      <th>ser_avg</th>\n",
       "      <th>da_avg</th>\n",
       "    </tr>\n",
       "  </thead>\n",
       "  <tbody>\n",
       "    <tr>\n",
       "      <th>0</th>\n",
       "      <td>720575940629970489</td>\n",
       "      <td>720575940631267655</td>\n",
       "      <td>AVLP_R</td>\n",
       "      <td>7</td>\n",
       "      <td>0.654330</td>\n",
       "      <td>0.023704</td>\n",
       "      <td>2.724177e-01</td>\n",
       "      <td>4.812546e-02</td>\n",
       "      <td>4.724386e-04</td>\n",
       "      <td>0.000951</td>\n",
       "    </tr>\n",
       "    <tr>\n",
       "      <th>1</th>\n",
       "      <td>720575940623828999</td>\n",
       "      <td>720575940612348950</td>\n",
       "      <td>SLP_R</td>\n",
       "      <td>4</td>\n",
       "      <td>0.386517</td>\n",
       "      <td>0.024020</td>\n",
       "      <td>5.805122e-01</td>\n",
       "      <td>8.166312e-04</td>\n",
       "      <td>8.567505e-04</td>\n",
       "      <td>0.007278</td>\n",
       "    </tr>\n",
       "    <tr>\n",
       "      <th>2</th>\n",
       "      <td>720575940624078484</td>\n",
       "      <td>720575940616950161</td>\n",
       "      <td>SMP_R</td>\n",
       "      <td>2</td>\n",
       "      <td>0.001719</td>\n",
       "      <td>0.979256</td>\n",
       "      <td>1.810526e-03</td>\n",
       "      <td>1.633383e-05</td>\n",
       "      <td>5.870429e-03</td>\n",
       "      <td>0.011328</td>\n",
       "    </tr>\n",
       "    <tr>\n",
       "      <th>3</th>\n",
       "      <td>720575940629583345</td>\n",
       "      <td>720575940620324735</td>\n",
       "      <td>SMP_L</td>\n",
       "      <td>2</td>\n",
       "      <td>0.011815</td>\n",
       "      <td>0.031954</td>\n",
       "      <td>4.729873e-01</td>\n",
       "      <td>9.134340e-03</td>\n",
       "      <td>8.697341e-02</td>\n",
       "      <td>0.387136</td>\n",
       "    </tr>\n",
       "    <tr>\n",
       "      <th>4</th>\n",
       "      <td>720575940605876866</td>\n",
       "      <td>720575940606514878</td>\n",
       "      <td>LAL_R</td>\n",
       "      <td>15</td>\n",
       "      <td>0.994271</td>\n",
       "      <td>0.005063</td>\n",
       "      <td>5.223293e-04</td>\n",
       "      <td>3.998458e-07</td>\n",
       "      <td>1.034742e-04</td>\n",
       "      <td>0.000040</td>\n",
       "    </tr>\n",
       "    <tr>\n",
       "      <th>...</th>\n",
       "      <td>...</td>\n",
       "      <td>...</td>\n",
       "      <td>...</td>\n",
       "      <td>...</td>\n",
       "      <td>...</td>\n",
       "      <td>...</td>\n",
       "      <td>...</td>\n",
       "      <td>...</td>\n",
       "      <td>...</td>\n",
       "      <td>...</td>\n",
       "    </tr>\n",
       "    <tr>\n",
       "      <th>16847992</th>\n",
       "      <td>720575940615769750</td>\n",
       "      <td>720575940622822680</td>\n",
       "      <td>AVLP_L</td>\n",
       "      <td>1</td>\n",
       "      <td>0.004619</td>\n",
       "      <td>0.896132</td>\n",
       "      <td>3.206258e-02</td>\n",
       "      <td>1.844075e-03</td>\n",
       "      <td>2.894549e-02</td>\n",
       "      <td>0.036396</td>\n",
       "    </tr>\n",
       "    <tr>\n",
       "      <th>16847993</th>\n",
       "      <td>720575940624016823</td>\n",
       "      <td>720575940622760993</td>\n",
       "      <td>ME_R</td>\n",
       "      <td>4</td>\n",
       "      <td>0.080482</td>\n",
       "      <td>0.536168</td>\n",
       "      <td>2.336121e-02</td>\n",
       "      <td>3.442164e-01</td>\n",
       "      <td>2.744474e-04</td>\n",
       "      <td>0.015498</td>\n",
       "    </tr>\n",
       "    <tr>\n",
       "      <th>16847994</th>\n",
       "      <td>720575940637397309</td>\n",
       "      <td>720575940633255123</td>\n",
       "      <td>SLP_R</td>\n",
       "      <td>2</td>\n",
       "      <td>0.987325</td>\n",
       "      <td>0.008161</td>\n",
       "      <td>4.205040e-03</td>\n",
       "      <td>8.760364e-06</td>\n",
       "      <td>2.006123e-05</td>\n",
       "      <td>0.000281</td>\n",
       "    </tr>\n",
       "    <tr>\n",
       "      <th>16847995</th>\n",
       "      <td>720575940636432014</td>\n",
       "      <td>720575940617470681</td>\n",
       "      <td>ME_R</td>\n",
       "      <td>1</td>\n",
       "      <td>0.026646</td>\n",
       "      <td>0.031076</td>\n",
       "      <td>9.088086e-01</td>\n",
       "      <td>4.470230e-03</td>\n",
       "      <td>1.418527e-02</td>\n",
       "      <td>0.014815</td>\n",
       "    </tr>\n",
       "    <tr>\n",
       "      <th>16847996</th>\n",
       "      <td>720575940631583800</td>\n",
       "      <td>720575940625256732</td>\n",
       "      <td>ME_L</td>\n",
       "      <td>1</td>\n",
       "      <td>0.000131</td>\n",
       "      <td>0.992817</td>\n",
       "      <td>1.528595e-07</td>\n",
       "      <td>2.098867e-04</td>\n",
       "      <td>7.252153e-07</td>\n",
       "      <td>0.006841</td>\n",
       "    </tr>\n",
       "  </tbody>\n",
       "</table>\n",
       "<p>16847997 rows × 10 columns</p>\n",
       "</div>"
      ],
      "text/plain": [
       "              pre_pt_root_id     post_pt_root_id neuropil  syn_count  \\\n",
       "0         720575940629970489  720575940631267655   AVLP_R          7   \n",
       "1         720575940623828999  720575940612348950    SLP_R          4   \n",
       "2         720575940624078484  720575940616950161    SMP_R          2   \n",
       "3         720575940629583345  720575940620324735    SMP_L          2   \n",
       "4         720575940605876866  720575940606514878    LAL_R         15   \n",
       "...                      ...                 ...      ...        ...   \n",
       "16847992  720575940615769750  720575940622822680   AVLP_L          1   \n",
       "16847993  720575940624016823  720575940622760993     ME_R          4   \n",
       "16847994  720575940637397309  720575940633255123    SLP_R          2   \n",
       "16847995  720575940636432014  720575940617470681     ME_R          1   \n",
       "16847996  720575940631583800  720575940625256732     ME_L          1   \n",
       "\n",
       "          gaba_avg   ach_avg      glut_avg       oct_avg       ser_avg  \\\n",
       "0         0.654330  0.023704  2.724177e-01  4.812546e-02  4.724386e-04   \n",
       "1         0.386517  0.024020  5.805122e-01  8.166312e-04  8.567505e-04   \n",
       "2         0.001719  0.979256  1.810526e-03  1.633383e-05  5.870429e-03   \n",
       "3         0.011815  0.031954  4.729873e-01  9.134340e-03  8.697341e-02   \n",
       "4         0.994271  0.005063  5.223293e-04  3.998458e-07  1.034742e-04   \n",
       "...            ...       ...           ...           ...           ...   \n",
       "16847992  0.004619  0.896132  3.206258e-02  1.844075e-03  2.894549e-02   \n",
       "16847993  0.080482  0.536168  2.336121e-02  3.442164e-01  2.744474e-04   \n",
       "16847994  0.987325  0.008161  4.205040e-03  8.760364e-06  2.006123e-05   \n",
       "16847995  0.026646  0.031076  9.088086e-01  4.470230e-03  1.418527e-02   \n",
       "16847996  0.000131  0.992817  1.528595e-07  2.098867e-04  7.252153e-07   \n",
       "\n",
       "            da_avg  \n",
       "0         0.000951  \n",
       "1         0.007278  \n",
       "2         0.011328  \n",
       "3         0.387136  \n",
       "4         0.000040  \n",
       "...            ...  \n",
       "16847992  0.036396  \n",
       "16847993  0.015498  \n",
       "16847994  0.000281  \n",
       "16847995  0.014815  \n",
       "16847996  0.006841  \n",
       "\n",
       "[16847997 rows x 10 columns]"
      ]
     },
     "execution_count": 9,
     "metadata": {},
     "output_type": "execute_result"
    }
   ],
   "source": [
    "import platform \n",
    "\n",
    "if platform.system() == 'Windows': \n",
    "    # using updated connectivity from Sven \n",
    "    conn_full = pd.read_feather(\n",
    "        'C:/Users/44745/Downloads/syn_proof_analysis_filtered_consolidated_ntavg_783.feather')\n",
    "else: \n",
    "    conn_full = pd.read_feather('/Users/yijieyin/Downloads/syn_proof_analysis_filtered_consolidated_783.feather')\n",
    "\n",
    "conn_full"
   ]
  },
  {
   "cell_type": "markdown",
   "metadata": {},
   "source": [
    "# NT"
   ]
  },
  {
   "cell_type": "code",
   "execution_count": 10,
   "metadata": {},
   "outputs": [
    {
     "data": {
      "text/plain": [
       "top_nt\n",
       "acetylcholine    58391\n",
       "glutamate        14397\n",
       "gaba             13078\n",
       "serotonin          109\n",
       "dopamine            49\n",
       "NaN                 47\n",
       "octopamine          42\n",
       "Name: count, dtype: int64"
      ]
     },
     "execution_count": 10,
     "metadata": {},
     "output_type": "execute_result"
    }
   ],
   "source": [
    "optic.top_nt.value_counts(dropna = False)"
   ]
  },
  {
   "cell_type": "code",
   "execution_count": 11,
   "metadata": {},
   "outputs": [
    {
     "data": {
      "text/plain": [
       "array([nan, 'acetylcholine', 'glutamate, Dh44, allatostatin-c',\n",
       "       'octopamine', 'glycine, pdf', 'ion-transport peptide', 'glycine',\n",
       "       'glycine, pdf, sNPF', 'gaba', 'serotonin', 'dopamine', 'glutamate',\n",
       "       'acetylcholine, allatostatin-a', 'gaba, nitric oxide',\n",
       "       'acetylcholine, nitric oxide', 'glutamate, gaba',\n",
       "       'gaba, nitric oxide, allatostatin-c',\n",
       "       'acetylcholine, nitric oxide, dopamine',\n",
       "       'acetylcholine, allatostatin-c'], dtype=object)"
      ]
     },
     "execution_count": 11,
     "metadata": {},
     "output_type": "execute_result"
    }
   ],
   "source": [
    "optic.known_nt.unique()"
   ]
  },
  {
   "cell_type": "code",
   "execution_count": 12,
   "metadata": {},
   "outputs": [
    {
     "name": "stderr",
     "output_type": "stream",
     "text": [
      "C:\\Users\\44745\\AppData\\Local\\Temp\\ipykernel_61764\\3640933435.py:2: SettingWithCopyWarning: \n",
      "A value is trying to be set on a copy of a slice from a DataFrame.\n",
      "Try using .loc[row_indexer,col_indexer] = value instead\n",
      "\n",
      "See the caveats in the documentation: https://pandas.pydata.org/pandas-docs/stable/user_guide/indexing.html#returning-a-view-versus-a-copy\n",
      "  optic['known_nt_simplified'] = optic.known_nt\n",
      "C:\\Users\\44745\\AppData\\Local\\Temp\\ipykernel_61764\\3640933435.py:4: SettingWithCopyWarning: \n",
      "A value is trying to be set on a copy of a slice from a DataFrame.\n",
      "Try using .loc[row_indexer,col_indexer] = value instead\n",
      "\n",
      "See the caveats in the documentation: https://pandas.pydata.org/pandas-docs/stable/user_guide/indexing.html#returning-a-view-versus-a-copy\n",
      "  optic.known_nt_simplified = optic.known_nt_simplified.str.extract('(glutamate|gaba|acetylcholine)', expand = False)\n",
      "C:\\Users\\44745\\AppData\\Local\\Temp\\ipykernel_61764\\3640933435.py:10: SettingWithCopyWarning: \n",
      "A value is trying to be set on a copy of a slice from a DataFrame.\n",
      "Try using .loc[row_indexer,col_indexer] = value instead\n",
      "\n",
      "See the caveats in the documentation: https://pandas.pydata.org/pandas-docs/stable/user_guide/indexing.html#returning-a-view-versus-a-copy\n",
      "  optic.top_nt = optic.known_nt_simplified.fillna(optic.top_nt)\n"
     ]
    }
   ],
   "source": [
    "# known_nt takes priority \n",
    "optic['known_nt_simplified'] = optic.known_nt\n",
    "# pattern matching: only keep if value contains 'glutamate', 'gaba', or 'acetylcholine'\n",
    "optic.known_nt_simplified = optic.known_nt_simplified.str.extract('(glutamate|gaba|acetylcholine)', expand = False)\n",
    "# note that if a value has multiple matches, only the first one is kept\n",
    "# e.g. 'glutamate, gaba' will be simplified to 'glutamate'\n",
    "optic.known_nt_simplified.value_counts(dropna = False)\n",
    "\n",
    "# then use this column to replace values in top_nt column \n",
    "optic.top_nt = optic.known_nt_simplified.fillna(optic.top_nt)"
   ]
  },
  {
   "cell_type": "code",
   "execution_count": 13,
   "metadata": {},
   "outputs": [
    {
     "name": "stderr",
     "output_type": "stream",
     "text": [
      "C:\\Users\\44745\\AppData\\Local\\Temp\\ipykernel_61764\\1437609657.py:2: SettingWithCopyWarning: \n",
      "A value is trying to be set on a copy of a slice from a DataFrame.\n",
      "Try using .loc[row_indexer,col_indexer] = value instead\n",
      "\n",
      "See the caveats in the documentation: https://pandas.pydata.org/pandas-docs/stable/user_guide/indexing.html#returning-a-view-versus-a-copy\n",
      "  optic['top_nt'] = optic['top_nt'].fillna('unknown')\n"
     ]
    },
    {
     "data": {
      "text/plain": [
       "(array([6.637e+03, 5.900e+01, 0.000e+00, 1.300e+01, 0.000e+00, 0.000e+00,\n",
       "        1.000e+00, 0.000e+00, 0.000e+00, 2.000e+00]),\n",
       " array([1. , 1.6, 2.2, 2.8, 3.4, 4. , 4.6, 5.2, 5.8, 6.4, 7. ]),\n",
       " <BarContainer object of 10 artists>)"
      ]
     },
     "execution_count": 13,
     "metadata": {},
     "output_type": "execute_result"
    },
    {
     "data": {
      "image/png": "[encoded data removed]",
      "text/plain": [
       "<Figure size 640x480 with 1 Axes>"
      ]
     },
     "metadata": {},
     "output_type": "display_data"
    }
   ],
   "source": [
    "# first check consistency of NT within each type \n",
    "optic['top_nt'] = optic['top_nt'].fillna('unknown')\n",
    "nt_count_per_type = optic.groupby('combined_type')['top_nt'].nunique()\n",
    "plt.hist(nt_count_per_type)"
   ]
  },
  {
   "cell_type": "code",
   "execution_count": 14,
   "metadata": {},
   "outputs": [
    {
     "data": {
      "text/plain": [
       "7"
      ]
     },
     "execution_count": 14,
     "metadata": {},
     "output_type": "execute_result"
    }
   ],
   "source": [
    "# For those with different NT for each neuron, get the majority NT for each type\n",
    "nt_conflict_types = nt_count_per_type[nt_count_per_type > 1].index\n",
    "\n",
    "# Getting counts of top_nt for each combined_type\n",
    "nt_conflict_type_counts = optic[optic.combined_type.isin(nt_conflict_types)].groupby(['combined_type', 'top_nt']).size()\n",
    "\n",
    "# Convert the series to a DataFrame and reset index\n",
    "nt_conflict_type_counts = nt_conflict_type_counts.reset_index(name='counts')\n",
    "\n",
    "# Sort by combined_type and counts in descending order\n",
    "nt_conflict_type_counts.sort_values(by=['combined_type', 'counts'], ascending=[True, False], inplace=True)\n",
    "\n",
    "# Initialize dictionary with existing type-nt matching\n",
    "type_nt = dict(zip(optic.combined_type, optic.top_nt))\n",
    "# Initialize a list to keep track of types with equal top_nt counts\n",
    "types_with_equal_top_nt_counts = []\n",
    "\n",
    "# Custom function to handle ties, random selection, and record keeping\n",
    "def select_random_nt_and_record_ties(df):\n",
    "    max_count = df['counts'].max()\n",
    "    top_nts = df[df['counts'] == max_count]\n",
    "    if len(top_nts) > 1:  # If there are ties\n",
    "        types_with_equal_top_nt_counts.append(df['combined_type'].iloc[0])  # Record the type with ties\n",
    "        random_nt = np.random.choice(top_nts['top_nt'].values)\n",
    "        while random_nt == 'unknown': \n",
    "            random_nt = np.random.choice(top_nts['top_nt'].values)\n",
    "        return random_nt  # Random selection among ties\n",
    "    else:\n",
    "        return top_nts['top_nt'].values[0]\n",
    "\n",
    "# Loop through each type to get the top_nt, handling ties appropriately\n",
    "for atype in nt_conflict_types:\n",
    "    type_df = nt_conflict_type_counts[nt_conflict_type_counts['combined_type'] == atype]\n",
    "    top_nt = select_random_nt_and_record_ties(type_df)\n",
    "    type_nt[atype] = top_nt\n",
    "\n",
    "len(types_with_equal_top_nt_counts)"
   ]
  },
  {
   "cell_type": "code",
   "execution_count": 15,
   "metadata": {},
   "outputs": [
    {
     "data": {
      "text/plain": [
       "['720575940610585442',\n",
       " '720575940627099934',\n",
       " '720575940628125416',\n",
       " '720575940623372502',\n",
       " '720575940629569040',\n",
       " '720575940625998895',\n",
       " '720575940617649238']"
      ]
     },
     "execution_count": 15,
     "metadata": {},
     "output_type": "execute_result"
    }
   ],
   "source": [
    "# the types without any known nt \n",
    "[atype for atype, nt in type_nt.items() if nt == 'unknown']"
   ]
  },
  {
   "cell_type": "code",
   "execution_count": 16,
   "metadata": {},
   "outputs": [],
   "source": [
    "# for now regarding everything (ACh, Glu, GABA, Dopamine, Serotonine, ??) except for Glu and GABA to be excitatory\n",
    "# first make a dictionary \n",
    "nt_value = {'acetylcholine': 1, \n",
    "           'glutamate': -1, \n",
    "           'gaba': -1, \n",
    "           'dopamine': 1, \n",
    "           'serotonin': 1, \n",
    "           'octopamine': 1, \n",
    "           'unknown': 1}"
   ]
  },
  {
   "cell_type": "markdown",
   "metadata": {},
   "source": [
    "# make coo"
   ]
  },
  {
   "cell_type": "code",
   "execution_count": 17,
   "metadata": {},
   "outputs": [
    {
     "data": {
      "text/html": [
       "<div>\n",
       "<style scoped>\n",
       "    .dataframe tbody tr th:only-of-type {\n",
       "        vertical-align: middle;\n",
       "    }\n",
       "\n",
       "    .dataframe tbody tr th {\n",
       "        vertical-align: top;\n",
       "    }\n",
       "\n",
       "    .dataframe thead th {\n",
       "        text-align: right;\n",
       "    }\n",
       "</style>\n",
       "<table border=\"1\" class=\"dataframe\">\n",
       "  <thead>\n",
       "    <tr style=\"text-align: right;\">\n",
       "      <th></th>\n",
       "      <th>pre_pt_root_id</th>\n",
       "      <th>post_pt_root_id</th>\n",
       "      <th>syn_count</th>\n",
       "    </tr>\n",
       "  </thead>\n",
       "  <tbody>\n",
       "    <tr>\n",
       "      <th>0</th>\n",
       "      <td>720575940596125868</td>\n",
       "      <td>720575940605825666</td>\n",
       "      <td>2</td>\n",
       "    </tr>\n",
       "    <tr>\n",
       "      <th>1</th>\n",
       "      <td>720575940596125868</td>\n",
       "      <td>720575940606217138</td>\n",
       "      <td>1</td>\n",
       "    </tr>\n",
       "    <tr>\n",
       "      <th>2</th>\n",
       "      <td>720575940596125868</td>\n",
       "      <td>720575940608552405</td>\n",
       "      <td>5</td>\n",
       "    </tr>\n",
       "    <tr>\n",
       "      <th>3</th>\n",
       "      <td>720575940596125868</td>\n",
       "      <td>720575940609975854</td>\n",
       "      <td>4</td>\n",
       "    </tr>\n",
       "    <tr>\n",
       "      <th>4</th>\n",
       "      <td>720575940596125868</td>\n",
       "      <td>720575940613059993</td>\n",
       "      <td>5</td>\n",
       "    </tr>\n",
       "    <tr>\n",
       "      <th>...</th>\n",
       "      <td>...</td>\n",
       "      <td>...</td>\n",
       "      <td>...</td>\n",
       "    </tr>\n",
       "    <tr>\n",
       "      <th>4533223</th>\n",
       "      <td>720575940661327745</td>\n",
       "      <td>720575940641188304</td>\n",
       "      <td>1</td>\n",
       "    </tr>\n",
       "    <tr>\n",
       "      <th>4533224</th>\n",
       "      <td>720575940661327745</td>\n",
       "      <td>720575940643231117</td>\n",
       "      <td>2</td>\n",
       "    </tr>\n",
       "    <tr>\n",
       "      <th>4533225</th>\n",
       "      <td>720575940661327745</td>\n",
       "      <td>720575940654273185</td>\n",
       "      <td>1</td>\n",
       "    </tr>\n",
       "    <tr>\n",
       "      <th>4533226</th>\n",
       "      <td>720575940661339777</td>\n",
       "      <td>720575940616982614</td>\n",
       "      <td>4</td>\n",
       "    </tr>\n",
       "    <tr>\n",
       "      <th>4533227</th>\n",
       "      <td>720575940661339777</td>\n",
       "      <td>720575940627311491</td>\n",
       "      <td>3</td>\n",
       "    </tr>\n",
       "  </tbody>\n",
       "</table>\n",
       "<p>4533228 rows × 3 columns</p>\n",
       "</div>"
      ],
      "text/plain": [
       "             pre_pt_root_id     post_pt_root_id  syn_count\n",
       "0        720575940596125868  720575940605825666          2\n",
       "1        720575940596125868  720575940606217138          1\n",
       "2        720575940596125868  720575940608552405          5\n",
       "3        720575940596125868  720575940609975854          4\n",
       "4        720575940596125868  720575940613059993          5\n",
       "...                     ...                 ...        ...\n",
       "4533223  720575940661327745  720575940641188304          1\n",
       "4533224  720575940661327745  720575940643231117          2\n",
       "4533225  720575940661327745  720575940654273185          1\n",
       "4533226  720575940661339777  720575940616982614          4\n",
       "4533227  720575940661339777  720575940627311491          3\n",
       "\n",
       "[4533228 rows x 3 columns]"
      ]
     },
     "execution_count": 17,
     "metadata": {},
     "output_type": "execute_result"
    }
   ],
   "source": [
    "rhs_visual = set(optic.root_id[optic.side == 'right'])\n",
    "# keep connections between RHS visual neurons (optic, visual_projection, visual_centrifugal); \n",
    "conn = conn_full[(conn_full.pre_pt_root_id.isin(rhs_visual) & conn_full.post_pt_root_id.isin(rhs_visual)) | \n",
    "            # and those upstream of RHS 'optic' neurons, in the RHS neuropils  \n",
    "            ((conn_full.post_pt_root_id.isin(optic.root_id[(optic.super_class == 'optic') & (optic.side == 'right')])) & (conn_full.neuropil.str.contains('_R$')))]\n",
    "# keep in mind that no neuron here is guaranteed to have all their upstream partners in conn\n",
    "\n",
    "# sym synapse numbers across neuropils\n",
    "conn = conn.groupby(['pre_pt_root_id', 'post_pt_root_id']\n",
    "                    ).syn_count.sum().reset_index()\n",
    "conn"
   ]
  },
  {
   "cell_type": "code",
   "execution_count": 18,
   "metadata": {},
   "outputs": [
    {
     "data": {
      "text/plain": [
       "54.591384"
      ]
     },
     "execution_count": 18,
     "metadata": {},
     "output_type": "execute_result"
    }
   ],
   "source": [
    "# instead of making a dense matrix based on the edgelist above, let's make a sparse one from the edgelist directly\n",
    "# first make a coo matrix\n",
    "nodes = set(conn.pre_pt_root_id).union(set(conn.post_pt_root_id))\n",
    "sorted_nodes = sorted(nodes)  # Convert the set to a sorted list\n",
    "nodes_to_idx = {node:num for num, node in enumerate(sorted_nodes)}\n",
    "\n",
    "# type to type connectivity\n",
    "conn['pre_idx'] = conn.pre_pt_root_id.map(nodes_to_idx) \n",
    "conn['post_idx'] = conn.post_pt_root_id.map(nodes_to_idx)\n",
    "\n",
    "# Create COO matrix\n",
    "row = conn['pre_idx'].values\n",
    "col = conn['post_idx'].values\n",
    "data = conn['syn_count'].values\n",
    "matrix_size = len(nodes)\n",
    "coo = coo_matrix((data, (row, col)), shape=(matrix_size, matrix_size))\n",
    "\n",
    "# then turn it into csc matrix\n",
    "csc = coo.tocsc()\n",
    "\n",
    "# calculate the size\n",
    "csc_size = csc.data.nbytes  # Size of the data array\n",
    "csc_size += csc.indices.nbytes  # Size of the indices array\n",
    "csc_size += csc.indptr.nbytes  # Size of the index pointer array\n",
    "# number of MB\n",
    "csc_size/1e6"
   ]
  },
  {
   "cell_type": "code",
   "execution_count": 19,
   "metadata": {},
   "outputs": [
    {
     "data": {
      "text/plain": [
       "(48161, 48161)"
      ]
     },
     "execution_count": 19,
     "metadata": {},
     "output_type": "execute_result"
    }
   ],
   "source": [
    "csc.shape"
   ]
  },
  {
   "cell_type": "code",
   "execution_count": 20,
   "metadata": {},
   "outputs": [
    {
     "data": {
      "text/plain": [
       "<48161x48161 sparse matrix of type '<class 'numpy.int64'>'\n",
       "\twith 4533228 stored elements in Compressed Sparse Column format>"
      ]
     },
     "execution_count": 20,
     "metadata": {},
     "output_type": "execute_result"
    }
   ],
   "source": [
    "csc"
   ]
  },
  {
   "cell_type": "code",
   "execution_count": 21,
   "metadata": {},
   "outputs": [
    {
     "data": {
      "text/plain": [
       "720575940596125868    151\n",
       "720575940597856265    435\n",
       "720575940597944841    276\n",
       "720575940598267657    836\n",
       "720575940599333574    385\n",
       "                     ... \n",
       "720575940635647935      0\n",
       "720575940621225921      0\n",
       "720575940634367970      0\n",
       "720575940625410028      0\n",
       "720575940642117621      0\n",
       "Length: 48161, dtype: int64"
      ]
     },
     "execution_count": 21,
     "metadata": {},
     "output_type": "execute_result"
    }
   ],
   "source": [
    "# calculate the total post-synapses for each neuron \n",
    "total_post = conn_full[conn_full.post_pt_root_id.isin(nodes)].groupby('post_pt_root_id').syn_count.sum()\n",
    "\n",
    "# some neurons have no postsynapses (receptors). Let's add those to total_post with value of 0\n",
    "no_post = nodes - set(total_post.index)\n",
    "no_post_dict = dict(zip(no_post, np.zeros(len(no_post), dtype=int)))\n",
    "total_post = pd.concat([total_post, pd.Series(no_post_dict)])\n",
    "total_post"
   ]
  },
  {
   "cell_type": "code",
   "execution_count": 22,
   "metadata": {},
   "outputs": [
    {
     "data": {
      "text/plain": [
       "720575940596125868    151\n",
       "720575940597856265    435\n",
       "720575940597944841    276\n",
       "720575940598267657    836\n",
       "720575940599333574    385\n",
       "                     ... \n",
       "720575940661318017    496\n",
       "720575940661320065    225\n",
       "720575940661325697    765\n",
       "720575940661327745    227\n",
       "720575940661339777      2\n",
       "Length: 48161, dtype: int64"
      ]
     },
     "execution_count": 22,
     "metadata": {},
     "output_type": "execute_result"
    }
   ],
   "source": [
    "# re-order so that it matches order of nodes \n",
    "total_post = total_post.loc[sorted_nodes]\n",
    "total_post"
   ]
  },
  {
   "cell_type": "code",
   "execution_count": 23,
   "metadata": {},
   "outputs": [],
   "source": [
    "# Handling division by zero in case some columns have a sum of zero\n",
    "# that is, where a neuron doesn't have incoming synapses\n",
    "col_sums_with_inversion = np.reciprocal(\n",
    "    total_post.to_numpy().astype(float), where=total_post.to_numpy() != 0)\n",
    "# Multiply each column by the inverse of its sum\n",
    "inprop = csc.multiply(col_sums_with_inversion)\n",
    "# and then reduce the precision to float32 to save memory\n",
    "inprop = inprop.astype(np.float32)"
   ]
  },
  {
   "cell_type": "code",
   "execution_count": 24,
   "metadata": {},
   "outputs": [
    {
     "data": {
      "image/png": "[encoded data removed]",
      "text/plain": [
       "<Figure size 640x480 with 1 Axes>"
      ]
     },
     "metadata": {},
     "output_type": "display_data"
    }
   ],
   "source": [
    "# histogram of connection strengths \n",
    "plt.hist(inprop.data)\n",
    "plt.yscale('log')\n",
    "plt.show()"
   ]
  },
  {
   "cell_type": "code",
   "execution_count": 25,
   "metadata": {},
   "outputs": [
    {
     "data": {
      "image/png": "[encoded data removed]",
      "text/plain": [
       "<Figure size 640x480 with 1 Axes>"
      ]
     },
     "metadata": {},
     "output_type": "display_data"
    }
   ],
   "source": [
    "# histogram of column sums \n",
    "colsums = inprop.sum(axis=0)\n",
    "plt.hist(colsums.A1, bins = 100)\n",
    "plt.yscale('log')\n",
    "plt.show()"
   ]
  },
  {
   "cell_type": "code",
   "execution_count": 26,
   "metadata": {},
   "outputs": [
    {
     "data": {
      "text/plain": [
       "38416"
      ]
     },
     "execution_count": 26,
     "metadata": {},
     "output_type": "execute_result"
    }
   ],
   "source": [
    "# how many colsums are around 1?\n",
    "np.sum(colsums > 0.99)"
   ]
  },
  {
   "cell_type": "code",
   "execution_count": 27,
   "metadata": {},
   "outputs": [],
   "source": [
    "sp.sparse.save_npz('data/fafb_inprop_optic_right_neuron.npz', inprop)"
   ]
  },
  {
   "cell_type": "code",
   "execution_count": 28,
   "metadata": {},
   "outputs": [
    {
     "name": "stderr",
     "output_type": "stream",
     "text": [
      "C:\\Users\\44745\\AppData\\Local\\Temp\\ipykernel_61764\\992757239.py:6: SettingWithCopyWarning: \n",
      "A value is trying to be set on a copy of a slice from a DataFrame\n",
      "\n",
      "See the caveats in the documentation: https://pandas.pydata.org/pandas-docs/stable/user_guide/indexing.html#returning-a-view-versus-a-copy\n",
      "  meta.rename(columns = {'combined_type': 'cell_type'}, inplace = True)\n"
     ]
    }
   ],
   "source": [
    "# save to csv, one row is one neuron \n",
    "meta = optic[['root_id', 'combined_type', 'side', 'top_nt', 'super_class',\n",
    "           'cell_class', 'cell_sub_class', 'ito_lee_hemilineage', 'hartenstein_hemilineage']]\n",
    "meta.loc[:,['idx']] = meta.root_id.map(nodes_to_idx)\n",
    "meta.loc[:, ['sign']] = meta.top_nt.map(nt_value)\n",
    "meta.rename(columns = {'combined_type': 'cell_type'}, inplace = True)\n",
    "\n",
    "# adult, right hemisphere, neuron level, meta information \n",
    "meta.to_csv('data/fafb_optic_right_neuron_meta.csv')"
   ]
  },
  {
   "cell_type": "code",
   "execution_count": 29,
   "metadata": {},
   "outputs": [
    {
     "data": {
      "text/html": [
       "<div>\n",
       "<style scoped>\n",
       "    .dataframe tbody tr th:only-of-type {\n",
       "        vertical-align: middle;\n",
       "    }\n",
       "\n",
       "    .dataframe tbody tr th {\n",
       "        vertical-align: top;\n",
       "    }\n",
       "\n",
       "    .dataframe thead th {\n",
       "        text-align: right;\n",
       "    }\n",
       "</style>\n",
       "<table border=\"1\" class=\"dataframe\">\n",
       "  <thead>\n",
       "    <tr style=\"text-align: right;\">\n",
       "      <th></th>\n",
       "      <th>root_id</th>\n",
       "      <th>cell_type</th>\n",
       "      <th>side</th>\n",
       "      <th>top_nt</th>\n",
       "      <th>super_class</th>\n",
       "      <th>cell_class</th>\n",
       "      <th>cell_sub_class</th>\n",
       "      <th>ito_lee_hemilineage</th>\n",
       "      <th>hartenstein_hemilineage</th>\n",
       "      <th>idx</th>\n",
       "      <th>sign</th>\n",
       "    </tr>\n",
       "  </thead>\n",
       "  <tbody>\n",
       "    <tr>\n",
       "      <th>4</th>\n",
       "      <td>720575940633370649</td>\n",
       "      <td>LC27</td>\n",
       "      <td>right</td>\n",
       "      <td>acetylcholine</td>\n",
       "      <td>visual_projection</td>\n",
       "      <td>NaN</td>\n",
       "      <td>NaN</td>\n",
       "      <td>NaN</td>\n",
       "      <td>NaN</td>\n",
       "      <td>38775.0</td>\n",
       "      <td>1</td>\n",
       "    </tr>\n",
       "    <tr>\n",
       "      <th>5</th>\n",
       "      <td>720575940638709326</td>\n",
       "      <td>LTe07</td>\n",
       "      <td>right</td>\n",
       "      <td>glutamate</td>\n",
       "      <td>visual_projection</td>\n",
       "      <td>NaN</td>\n",
       "      <td>NaN</td>\n",
       "      <td>NaN</td>\n",
       "      <td>NaN</td>\n",
       "      <td>43407.0</td>\n",
       "      <td>-1</td>\n",
       "    </tr>\n",
       "    <tr>\n",
       "      <th>6</th>\n",
       "      <td>720575940614754797</td>\n",
       "      <td>MTe12</td>\n",
       "      <td>right</td>\n",
       "      <td>acetylcholine</td>\n",
       "      <td>visual_projection</td>\n",
       "      <td>NaN</td>\n",
       "      <td>NaN</td>\n",
       "      <td>NaN</td>\n",
       "      <td>NaN</td>\n",
       "      <td>7313.0</td>\n",
       "      <td>1</td>\n",
       "    </tr>\n",
       "    <tr>\n",
       "      <th>7</th>\n",
       "      <td>720575940622660490</td>\n",
       "      <td>MTe04</td>\n",
       "      <td>right</td>\n",
       "      <td>glutamate</td>\n",
       "      <td>visual_projection</td>\n",
       "      <td>NaN</td>\n",
       "      <td>NaN</td>\n",
       "      <td>NaN</td>\n",
       "      <td>NaN</td>\n",
       "      <td>19408.0</td>\n",
       "      <td>-1</td>\n",
       "    </tr>\n",
       "    <tr>\n",
       "      <th>8</th>\n",
       "      <td>720575940659799937</td>\n",
       "      <td>VS4</td>\n",
       "      <td>right</td>\n",
       "      <td>acetylcholine</td>\n",
       "      <td>visual_projection</td>\n",
       "      <td>NaN</td>\n",
       "      <td>NaN</td>\n",
       "      <td>putative_primary</td>\n",
       "      <td>putative_primary</td>\n",
       "      <td>48012.0</td>\n",
       "      <td>1</td>\n",
       "    </tr>\n",
       "    <tr>\n",
       "      <th>...</th>\n",
       "      <td>...</td>\n",
       "      <td>...</td>\n",
       "      <td>...</td>\n",
       "      <td>...</td>\n",
       "      <td>...</td>\n",
       "      <td>...</td>\n",
       "      <td>...</td>\n",
       "      <td>...</td>\n",
       "      <td>...</td>\n",
       "      <td>...</td>\n",
       "      <td>...</td>\n",
       "    </tr>\n",
       "    <tr>\n",
       "      <th>139250</th>\n",
       "      <td>720575940618571494</td>\n",
       "      <td>720575940618571494</td>\n",
       "      <td>right</td>\n",
       "      <td>acetylcholine</td>\n",
       "      <td>optic</td>\n",
       "      <td>ME&gt;LO</td>\n",
       "      <td>NaN</td>\n",
       "      <td>NaN</td>\n",
       "      <td>NaN</td>\n",
       "      <td>12254.0</td>\n",
       "      <td>1</td>\n",
       "    </tr>\n",
       "    <tr>\n",
       "      <th>139251</th>\n",
       "      <td>720575940633170572</td>\n",
       "      <td>CB3823</td>\n",
       "      <td>right</td>\n",
       "      <td>acetylcholine</td>\n",
       "      <td>optic</td>\n",
       "      <td>LO</td>\n",
       "      <td>NaN</td>\n",
       "      <td>NaN</td>\n",
       "      <td>NaN</td>\n",
       "      <td>38493.0</td>\n",
       "      <td>1</td>\n",
       "    </tr>\n",
       "    <tr>\n",
       "      <th>139252</th>\n",
       "      <td>720575940650339961</td>\n",
       "      <td>CB3848</td>\n",
       "      <td>right</td>\n",
       "      <td>acetylcholine</td>\n",
       "      <td>optic</td>\n",
       "      <td>LO</td>\n",
       "      <td>NaN</td>\n",
       "      <td>NaN</td>\n",
       "      <td>NaN</td>\n",
       "      <td>47512.0</td>\n",
       "      <td>1</td>\n",
       "    </tr>\n",
       "    <tr>\n",
       "      <th>139253</th>\n",
       "      <td>720575940619997854</td>\n",
       "      <td>720575940619997854</td>\n",
       "      <td>left</td>\n",
       "      <td>acetylcholine</td>\n",
       "      <td>optic</td>\n",
       "      <td>ME&gt;LO</td>\n",
       "      <td>NaN</td>\n",
       "      <td>NaN</td>\n",
       "      <td>NaN</td>\n",
       "      <td>NaN</td>\n",
       "      <td>1</td>\n",
       "    </tr>\n",
       "    <tr>\n",
       "      <th>139254</th>\n",
       "      <td>720575940632527683</td>\n",
       "      <td>720575940632527683</td>\n",
       "      <td>right</td>\n",
       "      <td>glutamate</td>\n",
       "      <td>optic</td>\n",
       "      <td>NaN</td>\n",
       "      <td>NaN</td>\n",
       "      <td>NaN</td>\n",
       "      <td>NaN</td>\n",
       "      <td>37602.0</td>\n",
       "      <td>-1</td>\n",
       "    </tr>\n",
       "  </tbody>\n",
       "</table>\n",
       "<p>86113 rows × 11 columns</p>\n",
       "</div>"
      ],
      "text/plain": [
       "                   root_id           cell_type   side         top_nt  \\\n",
       "4       720575940633370649                LC27  right  acetylcholine   \n",
       "5       720575940638709326               LTe07  right      glutamate   \n",
       "6       720575940614754797               MTe12  right  acetylcholine   \n",
       "7       720575940622660490               MTe04  right      glutamate   \n",
       "8       720575940659799937                 VS4  right  acetylcholine   \n",
       "...                    ...                 ...    ...            ...   \n",
       "139250  720575940618571494  720575940618571494  right  acetylcholine   \n",
       "139251  720575940633170572              CB3823  right  acetylcholine   \n",
       "139252  720575940650339961              CB3848  right  acetylcholine   \n",
       "139253  720575940619997854  720575940619997854   left  acetylcholine   \n",
       "139254  720575940632527683  720575940632527683  right      glutamate   \n",
       "\n",
       "              super_class cell_class cell_sub_class ito_lee_hemilineage  \\\n",
       "4       visual_projection        NaN            NaN                 NaN   \n",
       "5       visual_projection        NaN            NaN                 NaN   \n",
       "6       visual_projection        NaN            NaN                 NaN   \n",
       "7       visual_projection        NaN            NaN                 NaN   \n",
       "8       visual_projection        NaN            NaN    putative_primary   \n",
       "...                   ...        ...            ...                 ...   \n",
       "139250              optic      ME>LO            NaN                 NaN   \n",
       "139251              optic         LO            NaN                 NaN   \n",
       "139252              optic         LO            NaN                 NaN   \n",
       "139253              optic      ME>LO            NaN                 NaN   \n",
       "139254              optic        NaN            NaN                 NaN   \n",
       "\n",
       "       hartenstein_hemilineage      idx  sign  \n",
       "4                          NaN  38775.0     1  \n",
       "5                          NaN  43407.0    -1  \n",
       "6                          NaN   7313.0     1  \n",
       "7                          NaN  19408.0    -1  \n",
       "8             putative_primary  48012.0     1  \n",
       "...                        ...      ...   ...  \n",
       "139250                     NaN  12254.0     1  \n",
       "139251                     NaN  38493.0     1  \n",
       "139252                     NaN  47512.0     1  \n",
       "139253                     NaN      NaN     1  \n",
       "139254                     NaN  37602.0    -1  \n",
       "\n",
       "[86113 rows x 11 columns]"
      ]
     },
     "execution_count": 29,
     "metadata": {},
     "output_type": "execute_result"
    }
   ],
   "source": [
    "meta"
   ]
  },
  {
   "cell_type": "code",
   "execution_count": null,
   "metadata": {},
   "outputs": [],
   "source": []
  }
 ],
 "metadata": {
  "kernelspec": {
   "display_name": "base",
   "language": "python",
   "name": "python3"
  },
  "language_info": {
   "codemirror_mode": {
    "name": "ipython",
    "version": 3
   },
   "file_extension": ".py",
   "mimetype": "text/x-python",
   "name": "python",
   "nbconvert_exporter": "python",
   "pygments_lexer": "ipython3",
   "version": "3.11.5"
  }
 },
 "nbformat": 4,
 "nbformat_minor": 2
}
