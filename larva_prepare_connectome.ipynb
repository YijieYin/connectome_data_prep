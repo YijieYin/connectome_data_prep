{
 "cells": [
  {
   "cell_type": "code",
   "execution_count": null,
   "id": "24e7cecd-d174-43db-b848-7ba845b16baf",
   "metadata": {},
   "outputs": [],
   "source": [
    "import pandas as pd \n",
    "import numpy as np\n",
    "import matplotlib.pyplot as plt\n",
    "import seaborn as sns\n",
    "from tqdm import tqdm\n",
    "import math\n",
    "import re\n",
    "\n",
    "# for making legends \n",
    "import matplotlib.patches as mpatches\n",
    "import matplotlib.lines as mlines\n",
    "\n",
    "from scipy.sparse import csc_matrix, coo_matrix, diags\n",
    "import scipy as sp"
   ]
  },
  {
   "cell_type": "markdown",
   "id": "79fc4b81-c4be-4d80-9a35-1ae52a6cba04",
   "metadata": {
    "tags": []
   },
   "source": [
    "# get axon-dendrite connectome \n",
    "Connectivity matrix from [here](https://www.science.org/doi/10.1126/science.add9330)."
   ]
  },
  {
   "cell_type": "code",
   "execution_count": null,
   "id": "eb58aec4-782b-43e3-b70d-26cc103b6587",
   "metadata": {},
   "outputs": [],
   "source": [
    "ad = pd.read_csv('https://raw.githubusercontent.com/YijieYin/interpret_connectome/main/data/ad_connectivity_matrix.csv', index_col=0)\n",
    "ad"
   ]
  },
  {
   "cell_type": "markdown",
   "id": "356ea748-8704-424f-a782-c57920c56cdd",
   "metadata": {},
   "source": [
    "So the columns and rows are skids, and the values are synapse numbers, not input proportion. So we need the total number of synapses on the dendrites for each skid. "
   ]
  },
  {
   "cell_type": "code",
   "execution_count": null,
   "id": "84fb894c-64b0-4215-a591-b31da2f05016",
   "metadata": {},
   "outputs": [],
   "source": [
    "# histogram of total number of postsynapses per neuron\n",
    "ad.sum(axis = 'rows').hist(bins = 50)"
   ]
  },
  {
   "cell_type": "code",
   "execution_count": null,
   "id": "55f02030-03c8-47a8-94e7-7bec059fc3aa",
   "metadata": {},
   "outputs": [],
   "source": [
    "ad_edgelist = ad.melt(ignore_index=False).reset_index()\n",
    "ad_edgelist.columns = ['pre','post','weight']\n",
    "ad_edgelist = ad_edgelist[ad_edgelist.weight>0]\n",
    "ad_edgelist.pre = ad_edgelist.pre.astype(str)\n",
    "ad_edgelist"
   ]
  },
  {
   "cell_type": "code",
   "execution_count": null,
   "id": "0912e93c-4eb8-477a-a134-b06d6ba400b0",
   "metadata": {},
   "outputs": [],
   "source": [
    "nodes = set(ad.index.astype(str)).union(set(ad.columns))\n",
    "nodes_to_idx = {node:num for num, node in enumerate(nodes)}\n",
    "\n",
    "# Create COO matrix\n",
    "row = ad_edgelist.pre.map(nodes_to_idx).values\n",
    "col = ad_edgelist.post.map(nodes_to_idx).values\n",
    "data = ad_edgelist.weight.values\n",
    "matrix_size = len(nodes)\n",
    "coo = coo_matrix((data, (row, col)), shape=(matrix_size, matrix_size))\n",
    "\n",
    "# then turn it into csc matrix\n",
    "csc = coo.tocsc()\n",
    "\n",
    "csc_size = csc.data.nbytes  # Size of the data array\n",
    "csc_size += csc.indices.nbytes  # Size of the indices array\n",
    "csc_size += csc.indptr.nbytes  # Size of the index pointer array\n",
    "# number of MB\n",
    "csc_size/1e6"
   ]
  },
  {
   "cell_type": "code",
   "execution_count": null,
   "id": "5fa2ff64-9782-49cf-8131-f3509b5f2209",
   "metadata": {},
   "outputs": [],
   "source": [
    "len(nodes)"
   ]
  },
  {
   "cell_type": "code",
   "execution_count": null,
   "id": "866a0bdd-7e83-4101-b618-80ef09cce8a6",
   "metadata": {},
   "outputs": [],
   "source": [
    "col_sums = csc.sum(axis=0)\n",
    "# Handling division by zero in case some columns have a sum of zero\n",
    "# that is, where a neuron doesn't have incoming synapses\n",
    "# .A turns it from a sparse matrix into a dense np array\n",
    "col_sums_with_inversion = np.reciprocal(col_sums.A.squeeze().astype(float), where=col_sums.A.squeeze() != 0)\n",
    "# Multiply each column by the inverse of its sum\n",
    "inprop = csc.multiply(col_sums_with_inversion)\n",
    "# and then reduce the precision to float32 to save memory\n",
    "inprop = inprop.astype(np.float32)"
   ]
  },
  {
   "cell_type": "code",
   "execution_count": null,
   "id": "d2604162-7db7-484d-b0d3-543b09cf4c06",
   "metadata": {},
   "outputs": [],
   "source": [
    "ad"
   ]
  },
  {
   "cell_type": "code",
   "execution_count": null,
   "id": "5d2c7035-553a-4d92-aa0a-bcf0accc1480",
   "metadata": {},
   "outputs": [],
   "source": [
    "inprop"
   ]
  },
  {
   "cell_type": "code",
   "execution_count": null,
   "id": "1d5b5f9a-0c32-4147-9497-62e52e189492",
   "metadata": {},
   "outputs": [],
   "source": [
    "sp.sparse.save_npz('data/larva_inprop.npz', inprop)"
   ]
  },
  {
   "cell_type": "code",
   "execution_count": null,
   "id": "cf667347-5e44-4e6e-a9ee-c7df8fd33047",
   "metadata": {},
   "outputs": [],
   "source": [
    "# Set up the figure\n",
    "fig, ax = plt.subplots(figsize = (8,5))\n",
    "\n",
    "# Plot the histogram with log scale for both x and y axes\n",
    "ax.hist(inprop.data, bins=np.logspace(-3, 0, 40))\n",
    "ax.set_xscale('log')\n",
    "ax.set_yscale('log')\n",
    "\n",
    "# Set labels and title\n",
    "ax.set_xlabel('Strength of connection (Log Scale)')\n",
    "ax.set_ylabel('Number of connections (Log Scale)')\n",
    "ax.set_title('Number of connections vs. strength of connection')\n",
    "\n",
    "# Show the plot\n",
    "plt.show()"
   ]
  },
  {
   "cell_type": "markdown",
   "id": "44da5e24-32cd-4660-9429-b4cd7ac7aa83",
   "metadata": {},
   "source": [
    "# get meta info"
   ]
  },
  {
   "cell_type": "code",
   "execution_count": null,
   "id": "a29cbe4c-d5b0-4b55-bfa3-f88e022ff04f",
   "metadata": {},
   "outputs": [],
   "source": [
    "meta = pd.read_csv('https://raw.githubusercontent.com/YijieYin/interpret_connectome/main/data/brain-neurons_meta-data.csv')\n",
    "meta.head()"
   ]
  },
  {
   "cell_type": "code",
   "execution_count": null,
   "id": "24c5b177-907c-4868-b300-3d79ca0400e8",
   "metadata": {},
   "outputs": [],
   "source": [
    "# which types are there? \n",
    "meta.celltype.value_counts()"
   ]
  },
  {
   "cell_type": "code",
   "execution_count": null,
   "id": "cb16d61d-1559-4c4d-8c70-3374b93b7284",
   "metadata": {},
   "outputs": [],
   "source": [
    "# what about sub-type?\n",
    "meta.annotated_name.value_counts()"
   ]
  },
  {
   "cell_type": "code",
   "execution_count": null,
   "id": "66c18c29-14c4-4c28-92ba-d8222df2f344",
   "metadata": {},
   "outputs": [],
   "source": [
    "# how many neurons on the right without a contralateral homologue? \n",
    "sum(meta.leftid == 'no pair')"
   ]
  },
  {
   "cell_type": "code",
   "execution_count": null,
   "id": "a0bf939f-59a6-4637-9854-1641986f92c3",
   "metadata": {},
   "outputs": [],
   "source": [
    "sum(meta.rightid == 'no pair')"
   ]
  },
  {
   "cell_type": "code",
   "execution_count": null,
   "id": "475207cd-9d9e-4750-8edf-f2d546739b81",
   "metadata": {},
   "outputs": [],
   "source": [
    "# which kind of sensory neurons are there? \n",
    "meta[meta.celltype.isin(['sensory'])]['annotated_name'].value_counts()"
   ]
  },
  {
   "cell_type": "markdown",
   "id": "ccae497c-c027-4327-b6ce-6eb4b8722aef",
   "metadata": {},
   "source": [
    "## make a type dictionary"
   ]
  },
  {
   "cell_type": "code",
   "execution_count": null,
   "id": "52b7720b-a982-4823-bf0f-ec0a63240d2e",
   "metadata": {},
   "outputs": [],
   "source": [
    "# there are many values in the left_id or right_id column that is 'no pair'. So multiple values are assigned to the 'no pair' key. \n",
    "# when this happens, only the last value is retained in the dictionary. \n",
    "# but this is okay because we don't care about the 'no pair' ids. \n",
    "types = dict(zip(pd.concat([meta.leftid, meta.rightid]),\n",
    "                 pd.concat([meta.celltype,meta.celltype])))\n",
    "del types['no pair']\n",
    "# have a look at a few \n",
    "dict(list(types.items())[0:5])"
   ]
  },
  {
   "cell_type": "code",
   "execution_count": null,
   "id": "4f4e4cef-d046-48d0-9af5-0831dfeb11ba",
   "metadata": {},
   "outputs": [],
   "source": [
    "# and a neuron name dictionary \n",
    "names = dict(zip(pd.concat([meta.leftid, meta.rightid]),\n",
    "                 pd.concat([meta.left_name,meta.right_name])))"
   ]
  },
  {
   "cell_type": "code",
   "execution_count": null,
   "id": "8931e418-cd8a-4744-be63-daa369bd53f3",
   "metadata": {},
   "outputs": [],
   "source": [
    "# and a side dictionary \n",
    "sides = dict.fromkeys(meta.leftid, 'left')\n",
    "sides.update(dict.fromkeys(meta.rightid, 'right'))"
   ]
  },
  {
   "cell_type": "code",
   "execution_count": null,
   "id": "21ca911d-1d75-48ae-95cc-040132896ba0",
   "metadata": {},
   "outputs": [],
   "source": [
    "# additional info from annotated_name column\n",
    "types_add = dict(zip(pd.concat([meta.leftid, meta.rightid]),\n",
    "                 pd.concat([meta.annotated_name,meta.annotated_name])))"
   ]
  },
  {
   "cell_type": "code",
   "execution_count": null,
   "id": "b6710743-64c8-43ad-be88-956466928308",
   "metadata": {
    "tags": []
   },
   "outputs": [],
   "source": [
    "# remove side info and calculate the mean between sides  \n",
    "# names_noside = dict([(skid, re.sub('( left| right|;right|;left|_left|_right|-R-|-L-|l$|r$|l |r )','', name)) for (skid, name) in names.items()])\n",
    "# remove things in brackets\n",
    "names_noside = dict([(skid, re.sub('( left| right|;right|;left|_left|_right|-R-|-L-|l$|r$|l |r |\\(.*\\))','', name)) for (skid, name) in names.items()])\n",
    "# map name to type \n",
    "nametotype = dict([(names_noside[skid], thistype) for skid, thistype in types.items()])\n",
    "nametotype_add = dict([(names_noside[skid], thistype) for skid, thistype in types_add.items() if skid != 'no pair'])"
   ]
  },
  {
   "cell_type": "code",
   "execution_count": null,
   "id": "9c7724be-96e8-43b6-9c60-c359a5164386",
   "metadata": {},
   "outputs": [],
   "source": [
    "meta_out = pd.DataFrame(types.items(), columns = ['skid','cell_type'])\n",
    "meta_out['idx'] = meta_out.skid.map(nodes_to_idx)\n",
    "# meta_out['idx'] = meta_out.idx.astype(np.int64)\n",
    "\n",
    "meta_out['name'] = meta_out.skid.map(names)\n",
    "meta_out['name_noside'] = meta_out.skid.map(names_noside)\n",
    "meta_out['side'] = meta_out.skid.map(sides)\n",
    "meta_out['annotated_name'] = meta_out.skid.map(types_add) \n",
    "meta_out"
   ]
  },
  {
   "cell_type": "code",
   "execution_count": null,
   "id": "46d73b5e-f27a-4d27-b41f-a096ba4e9f77",
   "metadata": {},
   "outputs": [],
   "source": [
    "meta_out.to_csv('data/larva_type_meta.csv')"
   ]
  }
 ],
 "metadata": {
  "kernelspec": {
   "display_name": "Python 3 (ipykernel)",
   "language": "python",
   "name": "python3"
  },
  "language_info": {
   "codemirror_mode": {
    "name": "ipython",
    "version": 3
   },
   "file_extension": ".py",
   "mimetype": "text/x-python",
   "name": "python",
   "nbconvert_exporter": "python",
   "pygments_lexer": "ipython3",
   "version": "3.8.11"
  }
 },
 "nbformat": 4,
 "nbformat_minor": 5
}
